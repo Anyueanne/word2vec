{
 "cells": [
  {
   "cell_type": "markdown",
   "metadata": {},
   "source": [
    "refer to http://nbviewer.jupyter.org/github/danielfrg/word2vec/blob/master/examples/word2vec.ipynb"
   ]
  },
  {
   "cell_type": "code",
   "execution_count": 1,
   "metadata": {},
   "outputs": [],
   "source": [
    "import word2vec"
   ]
  },
  {
   "cell_type": "code",
   "execution_count": 40,
   "metadata": {},
   "outputs": [],
   "source": [
    "import os\n",
    "import jieba"
   ]
  },
  {
   "cell_type": "code",
   "execution_count": 2,
   "metadata": {},
   "outputs": [],
   "source": [
    "%load_ext autoreload\n",
    "%autoreload 2"
   ]
  },
  {
   "cell_type": "code",
   "execution_count": 24,
   "metadata": {},
   "outputs": [],
   "source": [
    "raw_data_path=r'C:\\data\\text.txt'\n",
    "output_path=r'C:\\data\\output'\n",
    "cut_data_path=os.path.join(output_path,'cut_text.txt')\n",
    "phrases_data_path=os.path.join(output_path,'text_phrases')\n",
    "model_path=os.path.join(output_path,'model.bin')"
   ]
  },
  {
   "cell_type": "code",
   "execution_count": 25,
   "metadata": {},
   "outputs": [],
   "source": [
    "with open(raw_data_path,'rb') as fin,open(cut_data_path,'wb') as fout:\n",
    "    lines_t=[]\n",
    "    for line in fin:\n",
    "        line=line.decode('utf-8').strip('\\r\\n ')\n",
    "        line=' '.join(jieba.cut(line)).encode('utf-8')\n",
    "        lines_t.append(line)\n",
    "    fout.writelines(lines_t)"
   ]
  },
  {
   "cell_type": "code",
   "execution_count": 26,
   "metadata": {},
   "outputs": [
    {
     "name": "stdout",
     "output_type": "stream",
     "text": [
      "Starting training using file C:\\data\\output\\cut_text.txt\r\n",
      "\r\n",
      "Vocab size (unigrams + bigrams): 4038\r\n",
      "Words in train file: 8933\r\n"
     ]
    }
   ],
   "source": [
    "word2vec.word2phrase(cut_data_path,phrases_data_path,verbose=True)"
   ]
  },
  {
   "cell_type": "code",
   "execution_count": 27,
   "metadata": {},
   "outputs": [
    {
     "name": "stdout",
     "output_type": "stream",
     "text": [
      "Starting training using file C:\\data\\output\\text_phrases\r\n",
      "Vocab size: 320\r\n",
      "Words in train file: 6546\r\n"
     ]
    }
   ],
   "source": [
    "word2vec.word2vec(phrases_data_path, model_path, size=100, verbose=True)"
   ]
  },
  {
   "cell_type": "code",
   "execution_count": 28,
   "metadata": {},
   "outputs": [],
   "source": [
    "model=word2vec.load(model_path)"
   ]
  },
  {
   "cell_type": "code",
   "execution_count": 31,
   "metadata": {},
   "outputs": [
    {
     "data": {
      "text/plain": [
       "array(['</s>', '的', '，', '、', '和', '党', '。', '委员会', '党员', '社会主义', '发展',\n",
       "       '是', '在', '工作', '组织', '必须', '建设', '决定', '领导', '）', '坚持', '党组织',\n",
       "       '人民', '有', '群众', '要', '由', '上级', '。（', '为', '；', '或', '中央委员会', '对',\n",
       "       '纪律检查', '批准', '地方_各级', '。党', '可以', '中国共产党', '经济', '进行', '不', '中',\n",
       "       '同级', '应当', '向', '代表', '选举', '了', '干部', '各级', '同', '讨论', '社会', '以',\n",
       "       '加强', '代表大会', '中国', '文化', '问题', '国家', '地', '情况', '党的纪律', '现代化',\n",
       "       '中国_特色', '思想', '机关', '中央', '新', '政治', '维护', '任何', '报告', '执行', '政策',\n",
       "       '委员', '作出', '教育', '意见', '常务委员会', '下', '都', '要求', '。中国共产党', '产生',\n",
       "       '原则', '方针', '制度', '人', '团结', '它', '监督', '正式', '保证', '并', '其他',\n",
       "       '基层', '基本', '全体会议', '改革开放', '我国', '本', '按照', '事业', '实现', '民主',\n",
       "       '书记', '全国代表大会', '又', '会议', '实行', '如果', '把', '一切', '利益', '候补委员',\n",
       "       '反对', '自己', '毛泽东思想', '马克思列宁主义', '处分', '中央政治局', '马克思主义', '需要',\n",
       "       '“_三个代表', '支部', '他们', '决议', '参加', '根据', '邓小平理论', '他', '基层组织', '道路',\n",
       "       '下级组织', '重大_问题', '任务', '章程', '民族', '共产主义', '全面', '提出', '正确', '负责',\n",
       "       '地区', '时', '提高', '支部_大会', '上_一级', '权利', '个人', '上', '主要', '”_重要',\n",
       "       '职权', '有关', '学习', '履行', '法律', '预备党员', '从', '党内', '五年', '完善', '长期',\n",
       "       '期间', '特殊', '解决', '经过', '义务', '统一', '促进', '推进', '所', '以上', '处理',\n",
       "       '服从', '支持', '改革', '举行', '审查', '；（', '尊重', '共同', '党组', '充分发挥', '二',\n",
       "       '三', '四', '我们', '企业', '各', '改变', '积极', '完成', '生产', '省', '作用', '后',\n",
       "       '条件', '：', '基础', '不断', '领导人', '重要', '：（_一', '全国', '生活', '科学', '最',\n",
       "       '不得', '检查', '生产力', '集体', '党的领导', '水平', '行政', '发挥', '候选人', '不同',\n",
       "       '科学_发展观', '中党', '有权', '并报', '接受', '努力', '范围_内', '通过', '县级', '并且',\n",
       "       '经', '执政', '党的基本_路线', '管理', '规定', '自治区', '方式', '党的路线', '历史', '选拔',\n",
       "       '培养', '经常', '听取', '关系', '中央纪律检查委员会', '召集', '各项', '五', '认真',\n",
       "       '每届_任期', '一个', '和谐', '六', '宣传', '同志', '一级', '坚决', '给', '实践', '如',\n",
       "       '共青团', '全体', '办法', '严格', '文明', '党徽', '本人', '理论', '行使', '请求', '成员',\n",
       "       '批评', '四项', '讲', '各种', '作', '预备期', '走', '人民解放军', '总支部', '对党', '等',\n",
       "       '增强', '了解', '精神', '实事求是', '名额', '服务', '成立', '全党', '闭会', '开除党籍',\n",
       "       '副', '党内外', '认为', '党和人民', '再', '而', '奋斗', '相结合', '阶段', '同时', '保障',\n",
       "       '切实', '错误', '地方', '党的建设', '职务', '民主集中制', '市', '案件', '条', '但', '形成',\n",
       "       '开展', '研究', '（', '退党'], dtype='<U78')"
      ]
     },
     "execution_count": 31,
     "metadata": {},
     "output_type": "execute_result"
    }
   ],
   "source": [
    "model.vocab"
   ]
  },
  {
   "cell_type": "code",
   "execution_count": 32,
   "metadata": {},
   "outputs": [
    {
     "data": {
      "text/plain": [
       "(320, 100)"
      ]
     },
     "execution_count": 32,
     "metadata": {},
     "output_type": "execute_result"
    }
   ],
   "source": [
    "model.vectors.shape"
   ]
  },
  {
   "cell_type": "code",
   "execution_count": 33,
   "metadata": {},
   "outputs": [
    {
     "data": {
      "text/plain": [
       "array([ 0.07728709,  0.07876651,  0.14674114,  0.11880864, -0.00691209,\n",
       "       -0.07177114, -0.0776692 ,  0.13405345, -0.08056924,  0.0791682 ])"
      ]
     },
     "execution_count": 33,
     "metadata": {},
     "output_type": "execute_result"
    }
   ],
   "source": [
    "model['一个'][:10]"
   ]
  },
  {
   "cell_type": "code",
   "execution_count": 34,
   "metadata": {},
   "outputs": [
    {
     "data": {
      "text/plain": [
       "[('增强', '一个', 0.08977462387740573)]"
      ]
     },
     "execution_count": 34,
     "metadata": {},
     "output_type": "execute_result"
    }
   ],
   "source": [
    "model.distance('增强','一个')"
   ]
  },
  {
   "cell_type": "code",
   "execution_count": 35,
   "metadata": {
    "scrolled": true
   },
   "outputs": [
    {
     "ename": "KeyError",
     "evalue": "'dog'",
     "output_type": "error",
     "traceback": [
      "\u001b[1;31m---------------------------------------------------------------------------\u001b[0m",
      "\u001b[1;31mKeyError\u001b[0m                                  Traceback (most recent call last)",
      "\u001b[1;32m<ipython-input-35-dc9b2b7061b1>\u001b[0m in \u001b[0;36m<module>\u001b[1;34m()\u001b[0m\n\u001b[1;32m----> 1\u001b[1;33m \u001b[0mindexes\u001b[0m\u001b[1;33m,\u001b[0m \u001b[0mmetrics\u001b[0m \u001b[1;33m=\u001b[0m \u001b[0mmodel\u001b[0m\u001b[1;33m.\u001b[0m\u001b[0msimilar\u001b[0m\u001b[1;33m(\u001b[0m\u001b[1;34m\"dog\"\u001b[0m\u001b[1;33m)\u001b[0m\u001b[1;33m\u001b[0m\u001b[0m\n\u001b[0m",
      "\u001b[1;32m~\\Anaconda3\\lib\\site-packages\\word2vec\\wordvectors.py\u001b[0m in \u001b[0;36msimilar\u001b[1;34m(self, word, n, metric)\u001b[0m\n\u001b[0;32m    122\u001b[0m             \u001b[1;36m2.\u001b[0m \u001b[0mcosine\u001b[0m \u001b[0msimilarity\u001b[0m\u001b[1;33m\u001b[0m\u001b[0m\n\u001b[0;32m    123\u001b[0m         \"\"\"\n\u001b[1;32m--> 124\u001b[1;33m         \u001b[1;32mreturn\u001b[0m \u001b[0mself\u001b[0m\u001b[1;33m.\u001b[0m\u001b[0mclosest\u001b[0m\u001b[1;33m(\u001b[0m\u001b[0mself\u001b[0m\u001b[1;33m[\u001b[0m\u001b[0mword\u001b[0m\u001b[1;33m]\u001b[0m\u001b[1;33m,\u001b[0m \u001b[0mn\u001b[0m\u001b[1;33m=\u001b[0m\u001b[0mn\u001b[0m\u001b[1;33m,\u001b[0m \u001b[0mmetric\u001b[0m\u001b[1;33m=\u001b[0m\u001b[0mmetric\u001b[0m\u001b[1;33m)\u001b[0m\u001b[1;33m\u001b[0m\u001b[0m\n\u001b[0m\u001b[0;32m    125\u001b[0m \u001b[1;33m\u001b[0m\u001b[0m\n\u001b[0;32m    126\u001b[0m     \u001b[1;32mdef\u001b[0m \u001b[0manalogy\u001b[0m\u001b[1;33m(\u001b[0m\u001b[0mself\u001b[0m\u001b[1;33m,\u001b[0m \u001b[0mpos\u001b[0m\u001b[1;33m,\u001b[0m \u001b[0mneg\u001b[0m\u001b[1;33m,\u001b[0m \u001b[0mn\u001b[0m\u001b[1;33m=\u001b[0m\u001b[1;36m10\u001b[0m\u001b[1;33m,\u001b[0m \u001b[0mmetric\u001b[0m\u001b[1;33m=\u001b[0m\u001b[1;34m\"cosine\"\u001b[0m\u001b[1;33m)\u001b[0m\u001b[1;33m:\u001b[0m\u001b[1;33m\u001b[0m\u001b[0m\n",
      "\u001b[1;32m~\\Anaconda3\\lib\\site-packages\\word2vec\\wordvectors.py\u001b[0m in \u001b[0;36m__getitem__\u001b[1;34m(self, word)\u001b[0m\n\u001b[0;32m     55\u001b[0m \u001b[1;33m\u001b[0m\u001b[0m\n\u001b[0;32m     56\u001b[0m     \u001b[1;32mdef\u001b[0m \u001b[0m__getitem__\u001b[0m\u001b[1;33m(\u001b[0m\u001b[0mself\u001b[0m\u001b[1;33m,\u001b[0m \u001b[0mword\u001b[0m\u001b[1;33m)\u001b[0m\u001b[1;33m:\u001b[0m\u001b[1;33m\u001b[0m\u001b[0m\n\u001b[1;32m---> 57\u001b[1;33m         \u001b[1;32mreturn\u001b[0m \u001b[0mself\u001b[0m\u001b[1;33m.\u001b[0m\u001b[0mget_vector\u001b[0m\u001b[1;33m(\u001b[0m\u001b[0mword\u001b[0m\u001b[1;33m)\u001b[0m\u001b[1;33m\u001b[0m\u001b[0m\n\u001b[0m\u001b[0;32m     58\u001b[0m \u001b[1;33m\u001b[0m\u001b[0m\n\u001b[0;32m     59\u001b[0m     \u001b[1;32mdef\u001b[0m \u001b[0m__contains__\u001b[0m\u001b[1;33m(\u001b[0m\u001b[0mself\u001b[0m\u001b[1;33m,\u001b[0m \u001b[0mword\u001b[0m\u001b[1;33m)\u001b[0m\u001b[1;33m:\u001b[0m\u001b[1;33m\u001b[0m\u001b[0m\n",
      "\u001b[1;32m~\\Anaconda3\\lib\\site-packages\\word2vec\\wordvectors.py\u001b[0m in \u001b[0;36mget_vector\u001b[1;34m(self, word)\u001b[0m\n\u001b[0;32m     64\u001b[0m         \u001b[0mReturns\u001b[0m \u001b[0mthe\u001b[0m \u001b[0mvector\u001b[0m \u001b[1;32mfor\u001b[0m \u001b[0ma\u001b[0m\u001b[0;31m \u001b[0m\u001b[0;31m`\u001b[0m\u001b[0mword\u001b[0m\u001b[0;31m`\u001b[0m \u001b[1;32min\u001b[0m \u001b[0mthe\u001b[0m \u001b[0mvocabulary\u001b[0m\u001b[1;33m\u001b[0m\u001b[0m\n\u001b[0;32m     65\u001b[0m         \"\"\"\n\u001b[1;32m---> 66\u001b[1;33m         \u001b[1;32mreturn\u001b[0m \u001b[0mself\u001b[0m\u001b[1;33m.\u001b[0m\u001b[0mvectors\u001b[0m\u001b[1;33m[\u001b[0m\u001b[0mself\u001b[0m\u001b[1;33m.\u001b[0m\u001b[0mix\u001b[0m\u001b[1;33m(\u001b[0m\u001b[0mword\u001b[0m\u001b[1;33m)\u001b[0m\u001b[1;33m]\u001b[0m\u001b[1;33m\u001b[0m\u001b[0m\n\u001b[0m\u001b[0;32m     67\u001b[0m \u001b[1;33m\u001b[0m\u001b[0m\n\u001b[0;32m     68\u001b[0m     \u001b[1;32mdef\u001b[0m \u001b[0mdistance\u001b[0m\u001b[1;33m(\u001b[0m\u001b[0mself\u001b[0m\u001b[1;33m,\u001b[0m \u001b[1;33m*\u001b[0m\u001b[0margs\u001b[0m\u001b[1;33m,\u001b[0m \u001b[1;33m**\u001b[0m\u001b[0mkwargs\u001b[0m\u001b[1;33m)\u001b[0m\u001b[1;33m:\u001b[0m\u001b[1;33m\u001b[0m\u001b[0m\n",
      "\u001b[1;32m~\\Anaconda3\\lib\\site-packages\\word2vec\\wordvectors.py\u001b[0m in \u001b[0;36mix\u001b[1;34m(self, word)\u001b[0m\n\u001b[0;32m     37\u001b[0m         \u001b[0mReturns\u001b[0m \u001b[0mthe\u001b[0m \u001b[0mindex\u001b[0m \u001b[0mon\u001b[0m\u001b[0;31m \u001b[0m\u001b[0;31m`\u001b[0m\u001b[0mself\u001b[0m\u001b[1;33m.\u001b[0m\u001b[0mvocab\u001b[0m\u001b[0;31m`\u001b[0m \u001b[1;32mand\u001b[0m\u001b[0;31m \u001b[0m\u001b[0;31m`\u001b[0m\u001b[0mself\u001b[0m\u001b[1;33m.\u001b[0m\u001b[0mvectors\u001b[0m\u001b[0;31m`\u001b[0m \u001b[1;32mfor\u001b[0m\u001b[0;31m \u001b[0m\u001b[0;31m`\u001b[0m\u001b[0mword\u001b[0m\u001b[0;31m`\u001b[0m\u001b[1;33m\u001b[0m\u001b[0m\n\u001b[0;32m     38\u001b[0m         \"\"\"\n\u001b[1;32m---> 39\u001b[1;33m         \u001b[1;32mreturn\u001b[0m \u001b[0mself\u001b[0m\u001b[1;33m.\u001b[0m\u001b[0mvocab_hash\u001b[0m\u001b[1;33m[\u001b[0m\u001b[0mword\u001b[0m\u001b[1;33m]\u001b[0m\u001b[1;33m\u001b[0m\u001b[0m\n\u001b[0m\u001b[0;32m     40\u001b[0m \u001b[1;33m\u001b[0m\u001b[0m\n\u001b[0;32m     41\u001b[0m     \u001b[1;32mdef\u001b[0m \u001b[0mword\u001b[0m\u001b[1;33m(\u001b[0m\u001b[0mself\u001b[0m\u001b[1;33m,\u001b[0m \u001b[0mix\u001b[0m\u001b[1;33m)\u001b[0m\u001b[1;33m:\u001b[0m\u001b[1;33m\u001b[0m\u001b[0m\n",
      "\u001b[1;31mKeyError\u001b[0m: 'dog'"
     ]
    }
   ],
   "source": [
    "# 未出现的词会抛出'KeyError'异常\n",
    "indexes, metrics = model.similar(\"dog\")"
   ]
  },
  {
   "cell_type": "code",
   "execution_count": 38,
   "metadata": {},
   "outputs": [
    {
     "data": {
      "text/plain": [
       "(array([229,  22,  54, 141,  76,  66, 274, 244,  28,  61], dtype=int64),\n",
       " array([0.25212186, 0.23254648, 0.22954168, 0.22903973, 0.19769931,\n",
       "        0.19320882, 0.18705917, 0.17676441, 0.17396326, 0.16689   ]))"
      ]
     },
     "execution_count": 38,
     "metadata": {},
     "output_type": "execute_result"
    }
   ],
   "source": [
    "indexes,metrics=model.similar('一个')\n",
    "# 返回值是一个tuple，第一个元素是与“一个”相近词的ID，另一个是与相近词的cos距离\n",
    "indexes,metrics"
   ]
  },
  {
   "cell_type": "code",
   "execution_count": 39,
   "metadata": {},
   "outputs": [
    {
     "data": {
      "text/plain": [
       "array(['通过', '人民', '社会', '共产主义', '政策', '中国_特色', '四项', '听取', '。（', '国家'],\n",
       "      dtype='<U78')"
      ]
     },
     "execution_count": 39,
     "metadata": {},
     "output_type": "execute_result"
    }
   ],
   "source": [
    "model.vocab[indexes]"
   ]
  },
  {
   "cell_type": "code",
   "execution_count": 42,
   "metadata": {},
   "outputs": [
    {
     "data": {
      "text/plain": [
       "numpy.ndarray"
      ]
     },
     "execution_count": 42,
     "metadata": {},
     "output_type": "execute_result"
    }
   ],
   "source": [
    "# tf.get_variable(intializer)\n",
    "type(model.vectors)"
   ]
  },
  {
   "cell_type": "code",
   "execution_count": 46,
   "metadata": {},
   "outputs": [
    {
     "data": {
      "text/plain": [
       "dict"
      ]
     },
     "execution_count": 46,
     "metadata": {},
     "output_type": "execute_result"
    }
   ],
   "source": [
    "# get_text_idx(x_text,vocab)\n",
    "type(model.vocab_hash)  # dict, word: id"
   ]
  },
  {
   "cell_type": "markdown",
   "metadata": {},
   "source": [
    "### gensim word2vec"
   ]
  },
  {
   "cell_type": "code",
   "execution_count": 1,
   "metadata": {},
   "outputs": [],
   "source": [
    "chi_model=r'C:\\data\\sgns.financial.bigram-char'"
   ]
  },
  {
   "cell_type": "code",
   "execution_count": 2,
   "metadata": {},
   "outputs": [
    {
     "name": "stderr",
     "output_type": "stream",
     "text": [
      "C:\\Users\\MengnanChen\\Anaconda3\\lib\\site-packages\\gensim\\utils.py:1197: UserWarning: detected Windows; aliasing chunkize to chunkize_serial\n",
      "  warnings.warn(\"detected Windows; aliasing chunkize to chunkize_serial\")\n"
     ]
    }
   ],
   "source": [
    "from gensim.models.keyedvectors import KeyedVectors\n",
    "w2v_model = KeyedVectors.load_word2vec_format(chi_model,binary=False,unicode_errors='ignore')"
   ]
  },
  {
   "cell_type": "code",
   "execution_count": 3,
   "metadata": {},
   "outputs": [
    {
     "data": {
      "text/plain": [
       "{'，': <gensim.models.keyedvectors.Vocab at 0x202406b3da0>,\n",
       " '的': <gensim.models.keyedvectors.Vocab at 0x202406b3cf8>,\n",
       " '。': <gensim.models.keyedvectors.Vocab at 0x202406b3e10>,\n",
       " '、': <gensim.models.keyedvectors.Vocab at 0x202406b3e48>,\n",
       " '2017': <gensim.models.keyedvectors.Vocab at 0x202406d1080>,\n",
       " '公司': <gensim.models.keyedvectors.Vocab at 0x202406d10b8>,\n",
       " '：': <gensim.models.keyedvectors.Vocab at 0x202406d10f0>,\n",
       " '和': <gensim.models.keyedvectors.Vocab at 0x20241fe1978>,\n",
       " '在': <gensim.models.keyedvectors.Vocab at 0x2024213d2e8>,\n",
       " '%': <gensim.models.keyedvectors.Vocab at 0x2024213d5f8>,\n",
       " '了': <gensim.models.keyedvectors.Vocab at 0x202421d8898>,\n",
       " '市场': <gensim.models.keyedvectors.Vocab at 0x202421ff438>,\n",
       " '“': <gensim.models.keyedvectors.Vocab at 0x202421ff470>,\n",
       " '”': <gensim.models.keyedvectors.Vocab at 0x202421ff4a8>,\n",
       " '是': <gensim.models.keyedvectors.Vocab at 0x202421ff4e0>,\n",
       " '）': <gensim.models.keyedvectors.Vocab at 0x202421ff518>,\n",
       " '亿元': <gensim.models.keyedvectors.Vocab at 0x202421ff550>,\n",
       " '为': <gensim.models.keyedvectors.Vocab at 0x202421ff588>,\n",
       " '年': <gensim.models.keyedvectors.Vocab at 0x202421ff5c0>,\n",
       " '（': <gensim.models.keyedvectors.Vocab at 0x202421ff5f8>,\n",
       " ',': <gensim.models.keyedvectors.Vocab at 0x202421ff630>,\n",
       " '2016': <gensim.models.keyedvectors.Vocab at 0x202421ff6a0>,\n",
       " '月': <gensim.models.keyedvectors.Vocab at 0x202421ff6d8>,\n",
       " '(': <gensim.models.keyedvectors.Vocab at 0x202421ff710>,\n",
       " '发行': <gensim.models.keyedvectors.Vocab at 0x202421ff748>,\n",
       " '中国': <gensim.models.keyedvectors.Vocab at 0x202421ff780>,\n",
       " '企业': <gensim.models.keyedvectors.Vocab at 0x202421ff7b8>,\n",
       " '股份有限公司': <gensim.models.keyedvectors.Vocab at 0x202421ff7f0>,\n",
       " ')': <gensim.models.keyedvectors.Vocab at 0x202421ff828>,\n",
       " '有限公司': <gensim.models.keyedvectors.Vocab at 0x202421ff860>,\n",
       " '将': <gensim.models.keyedvectors.Vocab at 0x202421ff898>,\n",
       " '等': <gensim.models.keyedvectors.Vocab at 0x202421ff8d0>,\n",
       " ':': <gensim.models.keyedvectors.Vocab at 0x202421ff908>,\n",
       " '投资': <gensim.models.keyedvectors.Vocab at 0x202421ff940>,\n",
       " '行业': <gensim.models.keyedvectors.Vocab at 0x202421ff978>,\n",
       " '与': <gensim.models.keyedvectors.Vocab at 0x202421ff9b0>,\n",
       " '增长': <gensim.models.keyedvectors.Vocab at 0x202421ff9e8>,\n",
       " '发展': <gensim.models.keyedvectors.Vocab at 0x202421ffa20>,\n",
       " '-': <gensim.models.keyedvectors.Vocab at 0x202421ffa58>,\n",
       " '一': <gensim.models.keyedvectors.Vocab at 0x202421ffa90>,\n",
       " '；': <gensim.models.keyedvectors.Vocab at 0x202421ffac8>,\n",
       " '产品': <gensim.models.keyedvectors.Vocab at 0x202421ffb00>,\n",
       " '日': <gensim.models.keyedvectors.Vocab at 0x202421ffb38>,\n",
       " '同比': <gensim.models.keyedvectors.Vocab at 0x202421ffb70>,\n",
       " '也': <gensim.models.keyedvectors.Vocab at 0x202421ffba8>,\n",
       " '美元': <gensim.models.keyedvectors.Vocab at 0x202421ffbe0>,\n",
       " '10': <gensim.models.keyedvectors.Vocab at 0x202421ffc50>,\n",
       " '基金': <gensim.models.keyedvectors.Vocab at 0x202421ffc88>,\n",
       " '业务': <gensim.models.keyedvectors.Vocab at 0x202421ffcc0>,\n",
       " '对': <gensim.models.keyedvectors.Vocab at 0x202421ffcf8>,\n",
       " '价格': <gensim.models.keyedvectors.Vocab at 0x202421ffd30>,\n",
       " '项目': <gensim.models.keyedvectors.Vocab at 0x202421ffd68>,\n",
       " '股份': <gensim.models.keyedvectors.Vocab at 0x202421ffda0>,\n",
       " '/': <gensim.models.keyedvectors.Vocab at 0x202421ffdd8>,\n",
       " '有': <gensim.models.keyedvectors.Vocab at 0x202421ffe10>,\n",
       " '中': <gensim.models.keyedvectors.Vocab at 0x202421ffe48>,\n",
       " '我们': <gensim.models.keyedvectors.Vocab at 0x202421ffe80>,\n",
       " '数据': <gensim.models.keyedvectors.Vocab at 0x202421ffeb8>,\n",
       " '技术': <gensim.models.keyedvectors.Vocab at 0x202421ffef0>,\n",
       " '目前': <gensim.models.keyedvectors.Vocab at 0x202421fff28>,\n",
       " '时间': <gensim.models.keyedvectors.Vocab at 0x202421fff60>,\n",
       " '实现': <gensim.models.keyedvectors.Vocab at 0x202421fff98>,\n",
       " '进行': <gensim.models.keyedvectors.Vocab at 0x202421fffd0>,\n",
       " '证券': <gensim.models.keyedvectors.Vocab at 0x2024220d048>,\n",
       " '股': <gensim.models.keyedvectors.Vocab at 0x2024220d080>,\n",
       " '投资者': <gensim.models.keyedvectors.Vocab at 0x2024220d0b8>,\n",
       " '一个': <gensim.models.keyedvectors.Vocab at 0x2024220d0f0>,\n",
       " '上半年': <gensim.models.keyedvectors.Vocab at 0x2024220d128>,\n",
       " '及': <gensim.models.keyedvectors.Vocab at 0x2024220d160>,\n",
       " '.': <gensim.models.keyedvectors.Vocab at 0x2024220d198>,\n",
       " '净利润': <gensim.models.keyedvectors.Vocab at 0x2024220d1d0>,\n",
       " '通过': <gensim.models.keyedvectors.Vocab at 0x2024220d208>,\n",
       " '个': <gensim.models.keyedvectors.Vocab at 0x2024220d240>,\n",
       " 'iPhone': <gensim.models.keyedvectors.Vocab at 0x2024220d2b0>,\n",
       " '元': <gensim.models.keyedvectors.Vocab at 0x2024220d2e8>,\n",
       " '主要': <gensim.models.keyedvectors.Vocab at 0x2024220d320>,\n",
       " '上': <gensim.models.keyedvectors.Vocab at 0x2024220d358>,\n",
       " '万元': <gensim.models.keyedvectors.Vocab at 0x2024220d390>,\n",
       " '上市公司': <gensim.models.keyedvectors.Vocab at 0x2024220d3c8>,\n",
       " '资金': <gensim.models.keyedvectors.Vocab at 0x2024220d400>,\n",
       " '已经': <gensim.models.keyedvectors.Vocab at 0x2024220d438>,\n",
       " '可以': <gensim.models.keyedvectors.Vocab at 0x2024220d470>,\n",
       " '表示': <gensim.models.keyedvectors.Vocab at 0x2024220d4a8>,\n",
       " '服务': <gensim.models.keyedvectors.Vocab at 0x2024220d4e0>,\n",
       " '付息日': <gensim.models.keyedvectors.Vocab at 0x2024220d518>,\n",
       " '科技': <gensim.models.keyedvectors.Vocab at 0x2024220d550>,\n",
       " '以及': <gensim.models.keyedvectors.Vocab at 0x2024220d588>,\n",
       " '《': <gensim.models.keyedvectors.Vocab at 0x2024220d5c0>,\n",
       " '不': <gensim.models.keyedvectors.Vocab at 0x2024220d5f8>,\n",
       " '1': <gensim.models.keyedvectors.Vocab at 0x2024220d630>,\n",
       " '利率': <gensim.models.keyedvectors.Vocab at 0x2024220d668>,\n",
       " '2015': <gensim.models.keyedvectors.Vocab at 0x2024220d6d8>,\n",
       " '从': <gensim.models.keyedvectors.Vocab at 0x2024220d710>,\n",
       " '平台': <gensim.models.keyedvectors.Vocab at 0x2024220d748>,\n",
       " '大': <gensim.models.keyedvectors.Vocab at 0x2024220d780>,\n",
       " '业绩': <gensim.models.keyedvectors.Vocab at 0x2024220d7b8>,\n",
       " '方面': <gensim.models.keyedvectors.Vocab at 0x2024220d7f0>,\n",
       " '但': <gensim.models.keyedvectors.Vocab at 0x2024220d828>,\n",
       " '》': <gensim.models.keyedvectors.Vocab at 0x2024220d860>,\n",
       " '后': <gensim.models.keyedvectors.Vocab at 0x2024220d898>,\n",
       " '相关': <gensim.models.keyedvectors.Vocab at 0x2024220d8d0>,\n",
       " '交易': <gensim.models.keyedvectors.Vocab at 0x2024220d908>,\n",
       " '未来': <gensim.models.keyedvectors.Vocab at 0x2024220d940>,\n",
       " '而': <gensim.models.keyedvectors.Vocab at 0x2024220d978>,\n",
       " '这': <gensim.models.keyedvectors.Vocab at 0x2024220d9b0>,\n",
       " '经济': <gensim.models.keyedvectors.Vocab at 0x2024220d9e8>,\n",
       " '以': <gensim.models.keyedvectors.Vocab at 0x2024220da20>,\n",
       " '管理': <gensim.models.keyedvectors.Vocab at 0x2024220da58>,\n",
       " '并': <gensim.models.keyedvectors.Vocab at 0x2024220da90>,\n",
       " '汽车': <gensim.models.keyedvectors.Vocab at 0x2024220dac8>,\n",
       " '其中': <gensim.models.keyedvectors.Vocab at 0x2024220db00>,\n",
       " '资产': <gensim.models.keyedvectors.Vocab at 0x2024220db38>,\n",
       " '2': <gensim.models.keyedvectors.Vocab at 0x2024220db70>,\n",
       " '风险': <gensim.models.keyedvectors.Vocab at 0x2024220dba8>,\n",
       " '集团': <gensim.models.keyedvectors.Vocab at 0x2024220dbe0>,\n",
       " '多': <gensim.models.keyedvectors.Vocab at 0x2024220dc18>,\n",
       " '同时': <gensim.models.keyedvectors.Vocab at 0x2024220dc50>,\n",
       " '金融': <gensim.models.keyedvectors.Vocab at 0x2024220dc88>,\n",
       " '成为': <gensim.models.keyedvectors.Vocab at 0x2024220dcc0>,\n",
       " '美国': <gensim.models.keyedvectors.Vocab at 0x2024220dcf8>,\n",
       " '提供': <gensim.models.keyedvectors.Vocab at 0x2024220dd30>,\n",
       " '除息日': <gensim.models.keyedvectors.Vocab at 0x2024220dd68>,\n",
       " '3': <gensim.models.keyedvectors.Vocab at 0x2024220dda0>,\n",
       " '互联网': <gensim.models.keyedvectors.Vocab at 0x2024220ddd8>,\n",
       " '预期': <gensim.models.keyedvectors.Vocab at 0x2024220de10>,\n",
       " '上涨': <gensim.models.keyedvectors.Vocab at 0x2024220de48>,\n",
       " '提升': <gensim.models.keyedvectors.Vocab at 0x2024220de80>,\n",
       " '银行': <gensim.models.keyedvectors.Vocab at 0x2024220deb8>,\n",
       " '三': <gensim.models.keyedvectors.Vocab at 0x2024220def0>,\n",
       " '信息': <gensim.models.keyedvectors.Vocab at 0x2024220df28>,\n",
       " '影响': <gensim.models.keyedvectors.Vocab at 0x2024220df60>,\n",
       " '发布': <gensim.models.keyedvectors.Vocab at 0x2024220df98>,\n",
       " '机构': <gensim.models.keyedvectors.Vocab at 0x2024220dfd0>,\n",
       " '需求': <gensim.models.keyedvectors.Vocab at 0x2024221a048>,\n",
       " '进一步': <gensim.models.keyedvectors.Vocab at 0x2024221a080>,\n",
       " '会': <gensim.models.keyedvectors.Vocab at 0x2024221a0b8>,\n",
       " '全球': <gensim.models.keyedvectors.Vocab at 0x2024221a0f0>,\n",
       " '11': <gensim.models.keyedvectors.Vocab at 0x2024221a160>,\n",
       " '5': <gensim.models.keyedvectors.Vocab at 0x2024221a198>,\n",
       " '到': <gensim.models.keyedvectors.Vocab at 0x2024221a1d0>,\n",
       " '领域': <gensim.models.keyedvectors.Vocab at 0x2024221a208>,\n",
       " '产业': <gensim.models.keyedvectors.Vocab at 0x2024221a240>,\n",
       " '持续': <gensim.models.keyedvectors.Vocab at 0x2024221a278>,\n",
       " '今年': <gensim.models.keyedvectors.Vocab at 0x2024221a2b0>,\n",
       " '营业收入': <gensim.models.keyedvectors.Vocab at 0x2024221a2e8>,\n",
       " '生产': <gensim.models.keyedvectors.Vocab at 0x2024221a320>,\n",
       " '建设': <gensim.models.keyedvectors.Vocab at 0x2024221a358>,\n",
       " '人民币': <gensim.models.keyedvectors.Vocab at 0x2024221a390>,\n",
       " '就': <gensim.models.keyedvectors.Vocab at 0x2024221a3c8>,\n",
       " '显示': <gensim.models.keyedvectors.Vocab at 0x2024221a400>,\n",
       " '继续': <gensim.models.keyedvectors.Vocab at 0x2024221a438>,\n",
       " '问题': <gensim.models.keyedvectors.Vocab at 0x2024221a470>,\n",
       " '预计': <gensim.models.keyedvectors.Vocab at 0x2024221a4a8>,\n",
       " '指数': <gensim.models.keyedvectors.Vocab at 0x2024221a4e0>,\n",
       " '销售': <gensim.models.keyedvectors.Vocab at 0x2024221a518>,\n",
       " '股东': <gensim.models.keyedvectors.Vocab at 0x2024221a550>,\n",
       " '关于': <gensim.models.keyedvectors.Vocab at 0x2024221a588>,\n",
       " '或': <gensim.models.keyedvectors.Vocab at 0x2024221a5c0>,\n",
       " '合作': <gensim.models.keyedvectors.Vocab at 0x2024221a5f8>,\n",
       " '关注': <gensim.models.keyedvectors.Vocab at 0x2024221a630>,\n",
       " '情况': <gensim.models.keyedvectors.Vocab at 0x2024221a668>,\n",
       " '其': <gensim.models.keyedvectors.Vocab at 0x2024221a6a0>,\n",
       " '------------------------------------------------------------------------------': <gensim.models.keyedvectors.Vocab at 0x2024221a6d8>,\n",
       " '国内': <gensim.models.keyedvectors.Vocab at 0x2024221a710>,\n",
       " '于': <gensim.models.keyedvectors.Vocab at 0x2024221a748>,\n",
       " '用户': <gensim.models.keyedvectors.Vocab at 0x2024221a780>,\n",
       " '公告': <gensim.models.keyedvectors.Vocab at 0x2024221a7b8>,\n",
       " '没有': <gensim.models.keyedvectors.Vocab at 0x2024221a7f0>,\n",
       " '家': <gensim.models.keyedvectors.Vocab at 0x2024221a828>,\n",
       " '都': <gensim.models.keyedvectors.Vocab at 0x2024221a860>,\n",
       " '新能源': <gensim.models.keyedvectors.Vocab at 0x2024221a898>,\n",
       " '至': <gensim.models.keyedvectors.Vocab at 0x2024221a8d0>,\n",
       " '8': <gensim.models.keyedvectors.Vocab at 0x2024221a908>,\n",
       " '出现': <gensim.models.keyedvectors.Vocab at 0x2024221a940>,\n",
       " '认为': <gensim.models.keyedvectors.Vocab at 0x2024221a978>,\n",
       " '规模': <gensim.models.keyedvectors.Vocab at 0x2024221a9b0>,\n",
       " '品牌': <gensim.models.keyedvectors.Vocab at 0x2024221a9e8>,\n",
       " '政策': <gensim.models.keyedvectors.Vocab at 0x2024221aa20>,\n",
       " '超过': <gensim.models.keyedvectors.Vocab at 0x2024221aa58>,\n",
       " '第': <gensim.models.keyedvectors.Vocab at 0x2024221aa90>,\n",
       " '增加': <gensim.models.keyedvectors.Vocab at 0x2024221aac8>,\n",
       " '开始': <gensim.models.keyedvectors.Vocab at 0x2024221ab00>,\n",
       " '登记日': <gensim.models.keyedvectors.Vocab at 0x2024221ab38>,\n",
       " '新': <gensim.models.keyedvectors.Vocab at 0x2024221ab70>,\n",
       " '作为': <gensim.models.keyedvectors.Vocab at 0x2024221aba8>,\n",
       " '根据': <gensim.models.keyedvectors.Vocab at 0x2024221abe0>,\n",
       " '下降': <gensim.models.keyedvectors.Vocab at 0x2024221ac18>,\n",
       " '计划': <gensim.models.keyedvectors.Vocab at 0x2024221ac50>,\n",
       " '6': <gensim.models.keyedvectors.Vocab at 0x2024221ac88>,\n",
       " '人工智能': <gensim.models.keyedvectors.Vocab at 0x2024221acc0>,\n",
       " '20': <gensim.models.keyedvectors.Vocab at 0x2024221ad30>,\n",
       " '可能': <gensim.models.keyedvectors.Vocab at 0x2024221ad68>,\n",
       " '附息': <gensim.models.keyedvectors.Vocab at 0x2024221ada0>,\n",
       " '达到': <gensim.models.keyedvectors.Vocab at 0x2024221add8>,\n",
       " '已': <gensim.models.keyedvectors.Vocab at 0x2024221ae10>,\n",
       " '30': <gensim.models.keyedvectors.Vocab at 0x2024221ae80>,\n",
       " '板块': <gensim.models.keyedvectors.Vocab at 0x2024221aeb8>,\n",
       " '对于': <gensim.models.keyedvectors.Vocab at 0x2024221aef0>,\n",
       " '7': <gensim.models.keyedvectors.Vocab at 0x2024221af28>,\n",
       " '工作': <gensim.models.keyedvectors.Vocab at 0x2024221af60>,\n",
       " '需要': <gensim.models.keyedvectors.Vocab at 0x2024221af98>,\n",
       " '上市': <gensim.models.keyedvectors.Vocab at 0x2024221afd0>,\n",
       " '方式': <gensim.models.keyedvectors.Vocab at 0x2024221f048>,\n",
       " '创新': <gensim.models.keyedvectors.Vocab at 0x2024221f080>,\n",
       " '智能': <gensim.models.keyedvectors.Vocab at 0x2024221f0b8>,\n",
       " '包括': <gensim.models.keyedvectors.Vocab at 0x2024221f0f0>,\n",
       " '？': <gensim.models.keyedvectors.Vocab at 0x2024221f128>,\n",
       " '国际': <gensim.models.keyedvectors.Vocab at 0x2024221f160>,\n",
       " '9': <gensim.models.keyedvectors.Vocab at 0x2024221f198>,\n",
       " '4': <gensim.models.keyedvectors.Vocab at 0x2024221f1d0>,\n",
       " '前': <gensim.models.keyedvectors.Vocab at 0x2024221f208>,\n",
       " '还': <gensim.models.keyedvectors.Vocab at 0x2024221f240>,\n",
       " '下': <gensim.models.keyedvectors.Vocab at 0x2024221f278>,\n",
       " '2018': <gensim.models.keyedvectors.Vocab at 0x2024221f2e8>,\n",
       " '被': <gensim.models.keyedvectors.Vocab at 0x2024221f320>,\n",
       " '系统': <gensim.models.keyedvectors.Vocab at 0x2024221f358>,\n",
       " '部分': <gensim.models.keyedvectors.Vocab at 0x2024221f390>,\n",
       " '城市': <gensim.models.keyedvectors.Vocab at 0x2024221f3c8>,\n",
       " '能力': <gensim.models.keyedvectors.Vocab at 0x2024221f400>,\n",
       " '国家': <gensim.models.keyedvectors.Vocab at 0x2024221f438>,\n",
       " '两': <gensim.models.keyedvectors.Vocab at 0x2024221f470>,\n",
       " '其他': <gensim.models.keyedvectors.Vocab at 0x2024221f4a8>,\n",
       " '上海': <gensim.models.keyedvectors.Vocab at 0x2024221f4e0>,\n",
       " '人': <gensim.models.keyedvectors.Vocab at 0x2024221f518>,\n",
       " '股权': <gensim.models.keyedvectors.Vocab at 0x2024221f550>,\n",
       " '开放式': <gensim.models.keyedvectors.Vocab at 0x2024221f588>,\n",
       " '100': <gensim.models.keyedvectors.Vocab at 0x2024221f5f8>,\n",
       " '消费者': <gensim.models.keyedvectors.Vocab at 0x2024221f630>,\n",
       " '报告': <gensim.models.keyedvectors.Vocab at 0x2024221f668>,\n",
       " '来看': <gensim.models.keyedvectors.Vocab at 0x2024221f6a0>,\n",
       " '完成': <gensim.models.keyedvectors.Vocab at 0x2024221f6d8>,\n",
       " '客户': <gensim.models.keyedvectors.Vocab at 0x2024221f710>,\n",
       " '使用': <gensim.models.keyedvectors.Vocab at 0x2024221f748>,\n",
       " '要': <gensim.models.keyedvectors.Vocab at 0x2024221f780>,\n",
       " '全国': <gensim.models.keyedvectors.Vocab at 0x2024221f7b8>,\n",
       " '第一': <gensim.models.keyedvectors.Vocab at 0x2024221f7f0>,\n",
       " '2014': <gensim.models.keyedvectors.Vocab at 0x2024221f860>,\n",
       " '票面': <gensim.models.keyedvectors.Vocab at 0x2024221f898>,\n",
       " '增速': <gensim.models.keyedvectors.Vocab at 0x2024221f8d0>,\n",
       " '收入': <gensim.models.keyedvectors.Vocab at 0x2024221f908>,\n",
       " '截止': <gensim.models.keyedvectors.Vocab at 0x2024221f940>,\n",
       " '占': <gensim.models.keyedvectors.Vocab at 0x2024221f978>,\n",
       " '消费': <gensim.models.keyedvectors.Vocab at 0x2024221f9b0>,\n",
       " '12': <gensim.models.keyedvectors.Vocab at 0x2024221fa20>,\n",
       " '香港': <gensim.models.keyedvectors.Vocab at 0x2024221fa58>,\n",
       " '产能': <gensim.models.keyedvectors.Vocab at 0x2024221fa90>,\n",
       " '董事会': <gensim.models.keyedvectors.Vocab at 0x2024221fac8>,\n",
       " '收购': <gensim.models.keyedvectors.Vocab at 0x2024221fb00>,\n",
       " '三季度': <gensim.models.keyedvectors.Vocab at 0x2024221fb38>,\n",
       " '债权': <gensim.models.keyedvectors.Vocab at 0x2024221fb70>,\n",
       " '记者': <gensim.models.keyedvectors.Vocab at 0x2024221fba8>,\n",
       " '监管': <gensim.models.keyedvectors.Vocab at 0x2024221fbe0>,\n",
       " '要求': <gensim.models.keyedvectors.Vocab at 0x2024221fc18>,\n",
       " '分别为': <gensim.models.keyedvectors.Vocab at 0x2024221fc50>,\n",
       " 'A': <gensim.models.keyedvectors.Vocab at 0x2024221fc88>,\n",
       " '-->': <gensim.models.keyedvectors.Vocab at 0x2024221fcf8>,\n",
       " '成本': <gensim.models.keyedvectors.Vocab at 0x2024221fd30>,\n",
       " '支持': <gensim.models.keyedvectors.Vocab at 0x2024221fd68>,\n",
       " '股东大会': <gensim.models.keyedvectors.Vocab at 0x2024221fda0>,\n",
       " '整体': <gensim.models.keyedvectors.Vocab at 0x2024221fdd8>,\n",
       " '该': <gensim.models.keyedvectors.Vocab at 0x2024221fe10>,\n",
       " '进入': <gensim.models.keyedvectors.Vocab at 0x2024221fe48>,\n",
       " '本': <gensim.models.keyedvectors.Vocab at 0x2024221fe80>,\n",
       " '盈利': <gensim.models.keyedvectors.Vocab at 0x2024221feb8>,\n",
       " '调整': <gensim.models.keyedvectors.Vocab at 0x2024221fef0>,\n",
       " '万吨': <gensim.models.keyedvectors.Vocab at 0x2024221ff28>,\n",
       " '本次': <gensim.models.keyedvectors.Vocab at 0x2024221ff60>,\n",
       " '下跌': <gensim.models.keyedvectors.Vocab at 0x2024221ff98>,\n",
       " '股票': <gensim.models.keyedvectors.Vocab at 0x2024221ffd0>,\n",
       " '研究': <gensim.models.keyedvectors.Vocab at 0x20242221048>,\n",
       " '手机': <gensim.models.keyedvectors.Vocab at 0x20242221080>,\n",
       " '资讯': <gensim.models.keyedvectors.Vocab at 0x202422210b8>,\n",
       " '重要': <gensim.models.keyedvectors.Vocab at 0x202422210f0>,\n",
       " '就是': <gensim.models.keyedvectors.Vocab at 0x20242221128>,\n",
       " '--------------------------------------------------------------------------------': <gensim.models.keyedvectors.Vocab at 0x20242221160>,\n",
       " '融资': <gensim.models.keyedvectors.Vocab at 0x20242221198>,\n",
       " '高': <gensim.models.keyedvectors.Vocab at 0x202422211d0>,\n",
       " '披露': <gensim.models.keyedvectors.Vocab at 0x20242221208>,\n",
       " '实际': <gensim.models.keyedvectors.Vocab at 0x20242221240>,\n",
       " '表现': <gensim.models.keyedvectors.Vocab at 0x20242221278>,\n",
       " '这个': <gensim.models.keyedvectors.Vocab at 0x202422212b0>,\n",
       " '经营': <gensim.models.keyedvectors.Vocab at 0x202422212e8>,\n",
       " '明显': <gensim.models.keyedvectors.Vocab at 0x20242221320>,\n",
       " '黄金': <gensim.models.keyedvectors.Vocab at 0x20242221358>,\n",
       " '有限责任公司': <gensim.models.keyedvectors.Vocab at 0x20242221390>,\n",
       " '由': <gensim.models.keyedvectors.Vocab at 0x202422213c8>,\n",
       " '债券': <gensim.models.keyedvectors.Vocab at 0x20242221400>,\n",
       " '向': <gensim.models.keyedvectors.Vocab at 0x20242221438>,\n",
       " '对象': <gensim.models.keyedvectors.Vocab at 0x20242221470>,\n",
       " '北京': <gensim.models.keyedvectors.Vocab at 0x202422214a8>,\n",
       " '如果': <gensim.models.keyedvectors.Vocab at 0x202422214e0>,\n",
       " '17': <gensim.models.keyedvectors.Vocab at 0x20242221550>,\n",
       " '点': <gensim.models.keyedvectors.Vocab at 0x20242221588>,\n",
       " '随着': <gensim.models.keyedvectors.Vocab at 0x202422215c0>,\n",
       " '设备': <gensim.models.keyedvectors.Vocab at 0x202422215f8>,\n",
       " '由于': <gensim.models.keyedvectors.Vocab at 0x20242221630>,\n",
       " '战略': <gensim.models.keyedvectors.Vocab at 0x20242221668>,\n",
       " '资本': <gensim.models.keyedvectors.Vocab at 0x202422216a0>,\n",
       " '子公司': <gensim.models.keyedvectors.Vocab at 0x202422216d8>,\n",
       " '15': <gensim.models.keyedvectors.Vocab at 0x20242221748>,\n",
       " '最大': <gensim.models.keyedvectors.Vocab at 0x20242221780>,\n",
       " '能': <gensim.models.keyedvectors.Vocab at 0x202422217b8>,\n",
       " '行情': <gensim.models.keyedvectors.Vocab at 0x202422217f0>,\n",
       " '[': <gensim.models.keyedvectors.Vocab at 0x20242221828>,\n",
       " '以来': <gensim.models.keyedvectors.Vocab at 0x20242221860>,\n",
       " '有望': <gensim.models.keyedvectors.Vocab at 0x20242221898>,\n",
       " '营业部': <gensim.models.keyedvectors.Vocab at 0x202422218d0>,\n",
       " '推进': <gensim.models.keyedvectors.Vocab at 0x20242221908>,\n",
       " '环保': <gensim.models.keyedvectors.Vocab at 0x20242221940>,\n",
       " '大幅': <gensim.models.keyedvectors.Vocab at 0x20242221978>,\n",
       " '公布': <gensim.models.keyedvectors.Vocab at 0x202422219b0>,\n",
       " '房地产': <gensim.models.keyedvectors.Vocab at 0x202422219e8>,\n",
       " '美联储': <gensim.models.keyedvectors.Vocab at 0x20242221a20>,\n",
       " '以上': <gensim.models.keyedvectors.Vocab at 0x20242221a58>,\n",
       " '带来': <gensim.models.keyedvectors.Vocab at 0x20242221a90>,\n",
       " '获得': <gensim.models.keyedvectors.Vocab at 0x20242221ac8>,\n",
       " '应用': <gensim.models.keyedvectors.Vocab at 0x20242221b00>,\n",
       " '内容': <gensim.models.keyedvectors.Vocab at 0x20242221b38>,\n",
       " '评级': <gensim.models.keyedvectors.Vocab at 0x20242221b70>,\n",
       " '债券市场': <gensim.models.keyedvectors.Vocab at 0x20242221ba8>,\n",
       " '更多': <gensim.models.keyedvectors.Vocab at 0x20242221be0>,\n",
       " '可': <gensim.models.keyedvectors.Vocab at 0x20242221c18>,\n",
       " '研发': <gensim.models.keyedvectors.Vocab at 0x20242221c50>,\n",
       " '但是': <gensim.models.keyedvectors.Vocab at 0x20242221c88>,\n",
       " '总额': <gensim.models.keyedvectors.Vocab at 0x20242221cc0>,\n",
       " '控股': <gensim.models.keyedvectors.Vocab at 0x20242221cf8>,\n",
       " '模式': <gensim.models.keyedvectors.Vocab at 0x20242221d30>,\n",
       " '月份': <gensim.models.keyedvectors.Vocab at 0x20242221d68>,\n",
       " '资源': <gensim.models.keyedvectors.Vocab at 0x20242221da0>,\n",
       " ';': <gensim.models.keyedvectors.Vocab at 0x20242221dd8>,\n",
       " '还是': <gensim.models.keyedvectors.Vocab at 0x20242221e10>,\n",
       " '网络': <gensim.models.keyedvectors.Vocab at 0x20242221e48>,\n",
       " '分别': <gensim.models.keyedvectors.Vocab at 0x20242221e80>,\n",
       " '起始': <gensim.models.keyedvectors.Vocab at 0x20242221eb8>,\n",
       " '吨': <gensim.models.keyedvectors.Vocab at 0x20242221ef0>,\n",
       " '+': <gensim.models.keyedvectors.Vocab at 0x20242221f28>,\n",
       " '金额': <gensim.models.keyedvectors.Vocab at 0x20242221f60>,\n",
       " '优势': <gensim.models.keyedvectors.Vocab at 0x20242221f98>,\n",
       " '】': <gensim.models.keyedvectors.Vocab at 0x20242221fd0>,\n",
       " '收益': <gensim.models.keyedvectors.Vocab at 0x20242226048>,\n",
       " '这些': <gensim.models.keyedvectors.Vocab at 0x20242226080>,\n",
       " '存在': <gensim.models.keyedvectors.Vocab at 0x202422260b8>,\n",
       " '今日': <gensim.models.keyedvectors.Vocab at 0x202422260f0>,\n",
       " '目标': <gensim.models.keyedvectors.Vocab at 0x20242226128>,\n",
       " '维持': <gensim.models.keyedvectors.Vocab at 0x20242226160>,\n",
       " '不断': <gensim.models.keyedvectors.Vocab at 0x20242226198>,\n",
       " '重点': <gensim.models.keyedvectors.Vocab at 0x202422261d0>,\n",
       " '持有': <gensim.models.keyedvectors.Vocab at 0x20242226208>,\n",
       " '50': <gensim.models.keyedvectors.Vocab at 0x20242226278>,\n",
       " '——': <gensim.models.keyedvectors.Vocab at 0x202422262b0>,\n",
       " '水平': <gensim.models.keyedvectors.Vocab at 0x202422262e8>,\n",
       " '第二': <gensim.models.keyedvectors.Vocab at 0x20242226320>,\n",
       " '称': <gensim.models.keyedvectors.Vocab at 0x20242226358>,\n",
       " '分析': <gensim.models.keyedvectors.Vocab at 0x20242226390>,\n",
       " '减少': <gensim.models.keyedvectors.Vocab at 0x202422263c8>,\n",
       " '提高': <gensim.models.keyedvectors.Vocab at 0x20242226400>,\n",
       " '推动': <gensim.models.keyedvectors.Vocab at 0x20242226438>,\n",
       " '时': <gensim.models.keyedvectors.Vocab at 0x20242226470>,\n",
       " '做': <gensim.models.keyedvectors.Vocab at 0x202422264a8>,\n",
       " '上升': <gensim.models.keyedvectors.Vocab at 0x202422264e0>,\n",
       " '核心': <gensim.models.keyedvectors.Vocab at 0x20242226518>,\n",
       " '我国': <gensim.models.keyedvectors.Vocab at 0x20242226550>,\n",
       " '涨幅': <gensim.models.keyedvectors.Vocab at 0x20242226588>,\n",
       " '仍': <gensim.models.keyedvectors.Vocab at 0x202422265c0>,\n",
       " '百分点': <gensim.models.keyedvectors.Vocab at 0x202422265f8>,\n",
       " '收益率': <gensim.models.keyedvectors.Vocab at 0x20242226630>,\n",
       " '16': <gensim.models.keyedvectors.Vocab at 0x202422266a0>,\n",
       " '重大': <gensim.models.keyedvectors.Vocab at 0x202422266d8>,\n",
       " '建议': <gensim.models.keyedvectors.Vocab at 0x20242226710>,\n",
       " '能源': <gensim.models.keyedvectors.Vocab at 0x20242226748>,\n",
       " '董事长': <gensim.models.keyedvectors.Vocab at 0x20242226780>,\n",
       " '去年同期': <gensim.models.keyedvectors.Vocab at 0x202422267b8>,\n",
       " '比': <gensim.models.keyedvectors.Vocab at 0x202422267f0>,\n",
       " '之后': <gensim.models.keyedvectors.Vocab at 0x20242226828>,\n",
       " '500': <gensim.models.keyedvectors.Vocab at 0x20242226898>,\n",
       " '解决方案': <gensim.models.keyedvectors.Vocab at 0x202422268d0>,\n",
       " '年份': <gensim.models.keyedvectors.Vocab at 0x20242226908>,\n",
       " '份': <gensim.models.keyedvectors.Vocab at 0x20242226940>,\n",
       " '较': <gensim.models.keyedvectors.Vocab at 0x20242226978>,\n",
       " '运营': <gensim.models.keyedvectors.Vocab at 0x202422269b0>,\n",
       " '政府': <gensim.models.keyedvectors.Vocab at 0x202422269e8>,\n",
       " '形成': <gensim.models.keyedvectors.Vocab at 0x20242226a20>,\n",
       " '布局': <gensim.models.keyedvectors.Vocab at 0x20242226a58>,\n",
       " '库存': <gensim.models.keyedvectors.Vocab at 0x20242226a90>,\n",
       " '一些': <gensim.models.keyedvectors.Vocab at 0x20242226ac8>,\n",
       " '财经': <gensim.models.keyedvectors.Vocab at 0x20242226b00>,\n",
       " '债': <gensim.models.keyedvectors.Vocab at 0x20242226b38>,\n",
       " '因此': <gensim.models.keyedvectors.Vocab at 0x20242226b70>,\n",
       " '基本': <gensim.models.keyedvectors.Vocab at 0x20242226ba8>,\n",
       " '开发': <gensim.models.keyedvectors.Vocab at 0x20242226be0>,\n",
       " '正在': <gensim.models.keyedvectors.Vocab at 0x20242226c18>,\n",
       " '趋势': <gensim.models.keyedvectors.Vocab at 0x20242226c50>,\n",
       " '来': <gensim.models.keyedvectors.Vocab at 0x20242226c88>,\n",
       " '协议': <gensim.models.keyedvectors.Vocab at 0x20242226cc0>,\n",
       " '支撑': <gensim.models.keyedvectors.Vocab at 0x20242226cf8>,\n",
       " '约': <gensim.models.keyedvectors.Vocab at 0x20242226d30>,\n",
       " '次': <gensim.models.keyedvectors.Vocab at 0x20242226d68>,\n",
       " '号': <gensim.models.keyedvectors.Vocab at 0x20242226da0>,\n",
       " '分析师': <gensim.models.keyedvectors.Vocab at 0x20242226dd8>,\n",
       " '简称': <gensim.models.keyedvectors.Vocab at 0x20242226e10>,\n",
       " '创业板': <gensim.models.keyedvectors.Vocab at 0x20242226e48>,\n",
       " '设计': <gensim.models.keyedvectors.Vocab at 0x20242226e80>,\n",
       " '能够': <gensim.models.keyedvectors.Vocab at 0x20242226eb8>,\n",
       " '涨': <gensim.models.keyedvectors.Vocab at 0x20242226ef0>,\n",
       " '线': <gensim.models.keyedvectors.Vocab at 0x20242226f28>,\n",
       " '实施': <gensim.models.keyedvectors.Vocab at 0x20242226f60>,\n",
       " '均': <gensim.models.keyedvectors.Vocab at 0x20242226f98>,\n",
       " '升级': <gensim.models.keyedvectors.Vocab at 0x20242226fd0>,\n",
       " '安全': <gensim.models.keyedvectors.Vocab at 0x2024222c048>,\n",
       " '累计': <gensim.models.keyedvectors.Vocab at 0x2024222c080>,\n",
       " '价值': <gensim.models.keyedvectors.Vocab at 0x2024222c0b8>,\n",
       " '更': <gensim.models.keyedvectors.Vocab at 0x2024222c0f0>,\n",
       " '现在': <gensim.models.keyedvectors.Vocab at 0x2024222c128>,\n",
       " '央行': <gensim.models.keyedvectors.Vocab at 0x2024222c160>,\n",
       " '最新': <gensim.models.keyedvectors.Vocab at 0x2024222c198>,\n",
       " '地区': <gensim.models.keyedvectors.Vocab at 0x2024222c1d0>,\n",
       " '截至': <gensim.models.keyedvectors.Vocab at 0x2024222c208>,\n",
       " '股价': <gensim.models.keyedvectors.Vocab at 0x2024222c240>,\n",
       " '年度': <gensim.models.keyedvectors.Vocab at 0x2024222c278>,\n",
       " '具有': <gensim.models.keyedvectors.Vocab at 0x2024222c2b0>,\n",
       " '全面': <gensim.models.keyedvectors.Vocab at 0x2024222c2e8>,\n",
       " '地': <gensim.models.keyedvectors.Vocab at 0x2024222c320>,\n",
       " '推出': <gensim.models.keyedvectors.Vocab at 0x2024222c358>,\n",
       " '震荡': <gensim.models.keyedvectors.Vocab at 0x2024222c390>,\n",
       " '来源': <gensim.models.keyedvectors.Vocab at 0x2024222c3c8>,\n",
       " '支付': <gensim.models.keyedvectors.Vocab at 0x2024222c400>,\n",
       " '空间': <gensim.models.keyedvectors.Vocab at 0x2024222c438>,\n",
       " '2020': <gensim.models.keyedvectors.Vocab at 0x2024222c4a8>,\n",
       " '内': <gensim.models.keyedvectors.Vocab at 0x2024222c4e0>,\n",
       " '操作': <gensim.models.keyedvectors.Vocab at 0x2024222c518>,\n",
       " '产业链': <gensim.models.keyedvectors.Vocab at 0x2024222c550>,\n",
       " '议案': <gensim.models.keyedvectors.Vocab at 0x2024222c588>,\n",
       " '交易日': <gensim.models.keyedvectors.Vocab at 0x2024222c5c0>,\n",
       " '利润': <gensim.models.keyedvectors.Vocab at 0x2024222c5f8>,\n",
       " '导致': <gensim.models.keyedvectors.Vocab at 0x2024222c630>,\n",
       " '工业': <gensim.models.keyedvectors.Vocab at 0x2024222c668>,\n",
       " '比例': <gensim.models.keyedvectors.Vocab at 0x2024222c6a0>,\n",
       " '开展': <gensim.models.keyedvectors.Vocab at 0x2024222c6d8>,\n",
       " '传统': <gensim.models.keyedvectors.Vocab at 0x2024222c710>,\n",
       " '拥有': <gensim.models.keyedvectors.Vocab at 0x2024222c748>,\n",
       " '周期': <gensim.models.keyedvectors.Vocab at 0x2024222c780>,\n",
       " '短期': <gensim.models.keyedvectors.Vocab at 0x2024222c7b8>,\n",
       " '数量': <gensim.models.keyedvectors.Vocab at 0x2024222c7f0>,\n",
       " '网': <gensim.models.keyedvectors.Vocab at 0x2024222c828>,\n",
       " '因为': <gensim.models.keyedvectors.Vocab at 0x2024222c860>,\n",
       " '保持': <gensim.models.keyedvectors.Vocab at 0x2024222c898>,\n",
       " '消息': <gensim.models.keyedvectors.Vocab at 0x2024222c8d0>,\n",
       " '让': <gensim.models.keyedvectors.Vocab at 0x2024222c908>,\n",
       " '反弹': <gensim.models.keyedvectors.Vocab at 0x2024222c940>,\n",
       " '物流': <gensim.models.keyedvectors.Vocab at 0x2024222c978>,\n",
       " '虽然': <gensim.models.keyedvectors.Vocab at 0x2024222c9b0>,\n",
       " '环境': <gensim.models.keyedvectors.Vocab at 0x2024222c9e8>,\n",
       " '自己': <gensim.models.keyedvectors.Vocab at 0x2024222ca20>,\n",
       " '！': <gensim.models.keyedvectors.Vocab at 0x2024222ca58>,\n",
       " '估值': <gensim.models.keyedvectors.Vocab at 0x2024222ca90>,\n",
       " '如': <gensim.models.keyedvectors.Vocab at 0x2024222cac8>,\n",
       " '成交': <gensim.models.keyedvectors.Vocab at 0x2024222cb00>,\n",
       " '苹果': <gensim.models.keyedvectors.Vocab at 0x2024222cb38>,\n",
       " '处于': <gensim.models.keyedvectors.Vocab at 0x2024222cb70>,\n",
       " '会议': <gensim.models.keyedvectors.Vocab at 0x2024222cba8>,\n",
       " '综合': <gensim.models.keyedvectors.Vocab at 0x2024222cbe0>,\n",
       " '个股': <gensim.models.keyedvectors.Vocab at 0x2024222cc18>,\n",
       " '改革': <gensim.models.keyedvectors.Vocab at 0x2024222cc50>,\n",
       " '标准': <gensim.models.keyedvectors.Vocab at 0x2024222cc88>,\n",
       " '不过': <gensim.models.keyedvectors.Vocab at 0x2024222ccc0>,\n",
       " '近期': <gensim.models.keyedvectors.Vocab at 0x2024222ccf8>,\n",
       " '正式': <gensim.models.keyedvectors.Vocab at 0x2024222cd30>,\n",
       " '下半年': <gensim.models.keyedvectors.Vocab at 0x2024222cd68>,\n",
       " '则': <gensim.models.keyedvectors.Vocab at 0x2024222cda0>,\n",
       " '走势': <gensim.models.keyedvectors.Vocab at 0x2024222cdd8>,\n",
       " '控制': <gensim.models.keyedvectors.Vocab at 0x2024222ce10>,\n",
       " '积极': <gensim.models.keyedvectors.Vocab at 0x2024222ce48>,\n",
       " '2013': <gensim.models.keyedvectors.Vocab at 0x2024222ceb8>,\n",
       " '规定': <gensim.models.keyedvectors.Vocab at 0x2024222cef0>,\n",
       " '制造': <gensim.models.keyedvectors.Vocab at 0x2024222cf28>,\n",
       " '压力': <gensim.models.keyedvectors.Vocab at 0x2024222cf60>,\n",
       " '按照': <gensim.models.keyedvectors.Vocab at 0x2024222cf98>,\n",
       " '突破': <gensim.models.keyedvectors.Vocab at 0x2024222cfd0>,\n",
       " '机器人': <gensim.models.keyedvectors.Vocab at 0x20242235048>,\n",
       " '此外': <gensim.models.keyedvectors.Vocab at 0x20242235080>,\n",
       " '零售': <gensim.models.keyedvectors.Vocab at 0x202422350b8>,\n",
       " '方案': <gensim.models.keyedvectors.Vocab at 0x202422350f0>,\n",
       " '电子': <gensim.models.keyedvectors.Vocab at 0x20242235128>,\n",
       " '保险': <gensim.models.keyedvectors.Vocab at 0x20242235160>,\n",
       " '中心': <gensim.models.keyedvectors.Vocab at 0x20242235198>,\n",
       " '金融机构': <gensim.models.keyedvectors.Vocab at 0x202422351d0>,\n",
       " '一直': <gensim.models.keyedvectors.Vocab at 0x20242235208>,\n",
       " '购买': <gensim.models.keyedvectors.Vocab at 0x20242235240>,\n",
       " 'Facebook': <gensim.models.keyedvectors.Vocab at 0x20242235278>,\n",
       " '稳定': <gensim.models.keyedvectors.Vocab at 0x202422352b0>,\n",
       " '直接': <gensim.models.keyedvectors.Vocab at 0x202422352e8>,\n",
       " '资产重组': <gensim.models.keyedvectors.Vocab at 0x20242235320>,\n",
       " '选择': <gensim.models.keyedvectors.Vocab at 0x20242235358>,\n",
       " '原因': <gensim.models.keyedvectors.Vocab at 0x20242235390>,\n",
       " '以下': <gensim.models.keyedvectors.Vocab at 0x202422353c8>,\n",
       " '参与': <gensim.models.keyedvectors.Vocab at 0x20242235400>,\n",
       " '期货': <gensim.models.keyedvectors.Vocab at 0x20242235438>,\n",
       " '回落': <gensim.models.keyedvectors.Vocab at 0x20242235470>,\n",
       " '一定': <gensim.models.keyedvectors.Vocab at 0x202422354a8>,\n",
       " '制造业': <gensim.models.keyedvectors.Vocab at 0x202422354e0>,\n",
       " '转型': <gensim.models.keyedvectors.Vocab at 0x20242235518>,\n",
       " '采用': <gensim.models.keyedvectors.Vocab at 0x20242235550>,\n",
       " '达': <gensim.models.keyedvectors.Vocab at 0x20242235588>,\n",
       " '策略': <gensim.models.keyedvectors.Vocab at 0x202422355c0>,\n",
       " '天': <gensim.models.keyedvectors.Vocab at 0x202422355f8>,\n",
       " '周': <gensim.models.keyedvectors.Vocab at 0x20242235630>,\n",
       " '不同': <gensim.models.keyedvectors.Vocab at 0x20242235668>,\n",
       " '很多': <gensim.models.keyedvectors.Vocab at 0x202422356a0>,\n",
       " '因素': <gensim.models.keyedvectors.Vocab at 0x202422356d8>,\n",
       " '打造': <gensim.models.keyedvectors.Vocab at 0x20242235710>,\n",
       " '快速': <gensim.models.keyedvectors.Vocab at 0x20242235748>,\n",
       " '或者': <gensim.models.keyedvectors.Vocab at 0x20242235780>,\n",
       " '流动性': <gensim.models.keyedvectors.Vocab at 0x202422357b8>,\n",
       " '当前': <gensim.models.keyedvectors.Vocab at 0x202422357f0>,\n",
       " '所以': <gensim.models.keyedvectors.Vocab at 0x20242235828>,\n",
       " '中的': <gensim.models.keyedvectors.Vocab at 0x20242235860>,\n",
       " '环比': <gensim.models.keyedvectors.Vocab at 0x20242235898>,\n",
       " '营收': <gensim.models.keyedvectors.Vocab at 0x202422358d0>,\n",
       " '此次': <gensim.models.keyedvectors.Vocab at 0x20242235908>,\n",
       " '余额': <gensim.models.keyedvectors.Vocab at 0x20242235940>,\n",
       " '在线': <gensim.models.keyedvectors.Vocab at 0x20242235978>,\n",
       " '原油': <gensim.models.keyedvectors.Vocab at 0x202422359b0>,\n",
       " '有效': <gensim.models.keyedvectors.Vocab at 0x202422359e8>,\n",
       " '不是': <gensim.models.keyedvectors.Vocab at 0x20242235a20>,\n",
       " '毛利率': <gensim.models.keyedvectors.Vocab at 0x20242235a58>,\n",
       " '代表': <gensim.models.keyedvectors.Vocab at 0x20242235a90>,\n",
       " '他们': <gensim.models.keyedvectors.Vocab at 0x20242235ac8>,\n",
       " '货币政策': <gensim.models.keyedvectors.Vocab at 0x20242235b00>,\n",
       " '如何': <gensim.models.keyedvectors.Vocab at 0x20242235b38>,\n",
       " '300': <gensim.models.keyedvectors.Vocab at 0x20242235ba8>,\n",
       " 'HK': <gensim.models.keyedvectors.Vocab at 0x20242235c18>,\n",
       " '有关': <gensim.models.keyedvectors.Vocab at 0x20242235c50>,\n",
       " '贷款': <gensim.models.keyedvectors.Vocab at 0x20242235c88>,\n",
       " '越来越': <gensim.models.keyedvectors.Vocab at 0x20242235cc0>,\n",
       " '电商': <gensim.models.keyedvectors.Vocab at 0x20242235cf8>,\n",
       " '活动': <gensim.models.keyedvectors.Vocab at 0x20242235d30>,\n",
       " '看': <gensim.models.keyedvectors.Vocab at 0x20242235d68>,\n",
       " '公开': <gensim.models.keyedvectors.Vocab at 0x20242235da0>,\n",
       " '下滑': <gensim.models.keyedvectors.Vocab at 0x20242235dd8>,\n",
       " '情况下': <gensim.models.keyedvectors.Vocab at 0x20242235e10>,\n",
       " '左右': <gensim.models.keyedvectors.Vocab at 0x20242235e48>,\n",
       " '另一方面': <gensim.models.keyedvectors.Vocab at 0x20242235e80>,\n",
       " '责任编辑': <gensim.models.keyedvectors.Vocab at 0x20242235eb8>,\n",
       " '销量': <gensim.models.keyedvectors.Vocab at 0x20242235ef0>,\n",
       " '渠道': <gensim.models.keyedvectors.Vocab at 0x20242235f28>,\n",
       " '运行': <gensim.models.keyedvectors.Vocab at 0x20242235f60>,\n",
       " '变化': <gensim.models.keyedvectors.Vocab at 0x20242235f98>,\n",
       " '近日': <gensim.models.keyedvectors.Vocab at 0x20242235fd0>,\n",
       " '非常': <gensim.models.keyedvectors.Vocab at 0x20242233048>,\n",
       " '较大': <gensim.models.keyedvectors.Vocab at 0x20242233080>,\n",
       " '宣布': <gensim.models.keyedvectors.Vocab at 0x202422330b8>,\n",
       " '据': <gensim.models.keyedvectors.Vocab at 0x202422330f0>,\n",
       " '18': <gensim.models.keyedvectors.Vocab at 0x20242233160>,\n",
       " '深圳': <gensim.models.keyedvectors.Vocab at 0x20242233198>,\n",
       " '你': <gensim.models.keyedvectors.Vocab at 0x202422331d0>,\n",
       " '成立': <gensim.models.keyedvectors.Vocab at 0x20242233208>,\n",
       " '腾讯': <gensim.models.keyedvectors.Vocab at 0x20242233240>,\n",
       " '2012': <gensim.models.keyedvectors.Vocab at 0x202422332b0>,\n",
       " '新的': <gensim.models.keyedvectors.Vocab at 0x202422332e8>,\n",
       " '去年': <gensim.models.keyedvectors.Vocab at 0x20242233320>,\n",
       " '是否': <gensim.models.keyedvectors.Vocab at 0x20242233358>,\n",
       " '连续': <gensim.models.keyedvectors.Vocab at 0x20242233390>,\n",
       " '比较': <gensim.models.keyedvectors.Vocab at 0x202422333c8>,\n",
       " '所有': <gensim.models.keyedvectors.Vocab at 0x20242233400>,\n",
       " '工程': <gensim.models.keyedvectors.Vocab at 0x20242233438>,\n",
       " '建立': <gensim.models.keyedvectors.Vocab at 0x20242233470>,\n",
       " '区域': <gensim.models.keyedvectors.Vocab at 0x202422334a8>,\n",
       " '2019': <gensim.models.keyedvectors.Vocab at 0x20242233518>,\n",
       " '买入': <gensim.models.keyedvectors.Vocab at 0x20242233550>,\n",
       " '14': <gensim.models.keyedvectors.Vocab at 0x202422335c0>,\n",
       " '物联网': <gensim.models.keyedvectors.Vocab at 0x202422335f8>,\n",
       " '体系': <gensim.models.keyedvectors.Vocab at 0x20242233630>,\n",
       " '--------------------------------------------------------------------------------------------------': <gensim.models.keyedvectors.Vocab at 0x20242233668>,\n",
       " '董事': <gensim.models.keyedvectors.Vocab at 0x202422336a0>,\n",
       " '相对': <gensim.models.keyedvectors.Vocab at 0x202422336d8>,\n",
       " '报价': <gensim.models.keyedvectors.Vocab at 0x20242233710>,\n",
       " '过程': <gensim.models.keyedvectors.Vocab at 0x20242233748>,\n",
       " '这样': <gensim.models.keyedvectors.Vocab at 0x20242233780>,\n",
       " '21': <gensim.models.keyedvectors.Vocab at 0x202422337f0>,\n",
       " '团队': <gensim.models.keyedvectors.Vocab at 0x20242233828>,\n",
       " 'MTN': <gensim.models.keyedvectors.Vocab at 0x20242233898>,\n",
       " '机会': <gensim.models.keyedvectors.Vocab at 0x202422338d0>,\n",
       " '我': <gensim.models.keyedvectors.Vocab at 0x20242233908>,\n",
       " '京东': <gensim.models.keyedvectors.Vocab at 0x20242233940>,\n",
       " '功能': <gensim.models.keyedvectors.Vocab at 0x20242233978>,\n",
       " '单位': <gensim.models.keyedvectors.Vocab at 0x202422339b0>,\n",
       " 'http': <gensim.models.keyedvectors.Vocab at 0x20242233a20>,\n",
       " '上述': <gensim.models.keyedvectors.Vocab at 0x20242233a58>,\n",
       " '不会': <gensim.models.keyedvectors.Vocab at 0x20242233a90>,\n",
       " 'com': <gensim.models.keyedvectors.Vocab at 0x20242233b00>,\n",
       " '最': <gensim.models.keyedvectors.Vocab at 0x20242233b38>,\n",
       " '世界': <gensim.models.keyedvectors.Vocab at 0x20242233b70>,\n",
       " '商品': <gensim.models.keyedvectors.Vocab at 0x20242233ba8>,\n",
       " '产生': <gensim.models.keyedvectors.Vocab at 0x20242233be0>,\n",
       " '13': <gensim.models.keyedvectors.Vocab at 0x20242233c50>,\n",
       " '发生': <gensim.models.keyedvectors.Vocab at 0x20242233c88>,\n",
       " '深圳证券交易所': <gensim.models.keyedvectors.Vocab at 0x20242233cc0>,\n",
       " '25': <gensim.models.keyedvectors.Vocab at 0x20242233d30>,\n",
       " '移动': <gensim.models.keyedvectors.Vocab at 0x20242233d68>,\n",
       " '申请': <gensim.models.keyedvectors.Vocab at 0x20242233da0>,\n",
       " '总经理': <gensim.models.keyedvectors.Vocab at 0x20242233dd8>,\n",
       " '意味着': <gensim.models.keyedvectors.Vocab at 0x20242233e10>,\n",
       " '部门': <gensim.models.keyedvectors.Vocab at 0x20242233e48>,\n",
       " '平均': <gensim.models.keyedvectors.Vocab at 0x20242233e80>,\n",
       " '产量': <gensim.models.keyedvectors.Vocab at 0x20242233eb8>,\n",
       " '旗下': <gensim.models.keyedvectors.Vocab at 0x20242233ef0>,\n",
       " '联合': <gensim.models.keyedvectors.Vocab at 0x20242233f28>,\n",
       " '期': <gensim.models.keyedvectors.Vocab at 0x20242233f60>,\n",
       " '供应商': <gensim.models.keyedvectors.Vocab at 0x20242233f98>,\n",
       " '成功': <gensim.models.keyedvectors.Vocab at 0x20242233fd0>,\n",
       " '事项': <gensim.models.keyedvectors.Vocab at 0x2024223d048>,\n",
       " '降低': <gensim.models.keyedvectors.Vocab at 0x2024223d080>,\n",
       " '逐步': <gensim.models.keyedvectors.Vocab at 0x2024223d0b8>,\n",
       " '报道': <gensim.models.keyedvectors.Vocab at 0x2024223d0f0>,\n",
       " '上周': <gensim.models.keyedvectors.Vocab at 0x2024223d128>,\n",
       " '只': <gensim.models.keyedvectors.Vocab at 0x2024223d160>,\n",
       " '四': <gensim.models.keyedvectors.Vocab at 0x2024223d198>,\n",
       " '?': <gensim.models.keyedvectors.Vocab at 0x2024223d1d0>,\n",
       " '国债': <gensim.models.keyedvectors.Vocab at 0x2024223d208>,\n",
       " '银行间': <gensim.models.keyedvectors.Vocab at 0x2024223d240>,\n",
       " '指出': <gensim.models.keyedvectors.Vocab at 0x2024223d278>,\n",
       " '此前': <gensim.models.keyedvectors.Vocab at 0x2024223d2b0>,\n",
       " '募集': <gensim.models.keyedvectors.Vocab at 0x2024223d2e8>,\n",
       " '1000': <gensim.models.keyedvectors.Vocab at 0x2024223d358>,\n",
       " '任何': <gensim.models.keyedvectors.Vocab at 0x2024223d390>,\n",
       " '跌': <gensim.models.keyedvectors.Vocab at 0x2024223d3c8>,\n",
       " '增持': <gensim.models.keyedvectors.Vocab at 0x2024223d400>,\n",
       " '新三板': <gensim.models.keyedvectors.Vocab at 0x2024223d438>,\n",
       " '电池': <gensim.models.keyedvectors.Vocab at 0x2024223d470>,\n",
       " '高端': <gensim.models.keyedvectors.Vocab at 0x2024223d4a8>,\n",
       " '提出': <gensim.models.keyedvectors.Vocab at 0x2024223d4e0>,\n",
       " '加强': <gensim.models.keyedvectors.Vocab at 0x2024223d518>,\n",
       " '持股': <gensim.models.keyedvectors.Vocab at 0x2024223d550>,\n",
       " '商业': <gensim.models.keyedvectors.Vocab at 0x2024223d588>,\n",
       " '说': <gensim.models.keyedvectors.Vocab at 0x2024223d5c0>,\n",
       " '发现': <gensim.models.keyedvectors.Vocab at 0x2024223d5f8>,\n",
       " '减持': <gensim.models.keyedvectors.Vocab at 0x2024223d630>,\n",
       " '今年以来': <gensim.models.keyedvectors.Vocab at 0x2024223d668>,\n",
       " '全部': <gensim.models.keyedvectors.Vocab at 0x2024223d6a0>,\n",
       " '电力': <gensim.models.keyedvectors.Vocab at 0x2024223d6d8>,\n",
       " '更加': <gensim.models.keyedvectors.Vocab at 0x2024223d710>,\n",
       " '材料': <gensim.models.keyedvectors.Vocab at 0x2024223d748>,\n",
       " '报': <gensim.models.keyedvectors.Vocab at 0x2024223d780>,\n",
       " '还有': <gensim.models.keyedvectors.Vocab at 0x2024223d7b8>,\n",
       " '001': <gensim.models.keyedvectors.Vocab at 0x2024223d828>,\n",
       " '期间': <gensim.models.keyedvectors.Vocab at 0x2024223d860>,\n",
       " '健康': <gensim.models.keyedvectors.Vocab at 0x2024223d898>,\n",
       " '加快': <gensim.models.keyedvectors.Vocab at 0x2024223d8d0>,\n",
       " '最高': <gensim.models.keyedvectors.Vocab at 0x2024223d908>,\n",
       " '质量': <gensim.models.keyedvectors.Vocab at 0x2024223d940>,\n",
       " '．': <gensim.models.keyedvectors.Vocab at 0x2024223d978>,\n",
       " '给': <gensim.models.keyedvectors.Vocab at 0x2024223d9b0>,\n",
       " '结构': <gensim.models.keyedvectors.Vocab at 0x2024223d9e8>,\n",
       " '利用': <gensim.models.keyedvectors.Vocab at 0x2024223da20>,\n",
       " '长期': <gensim.models.keyedvectors.Vocab at 0x2024223da58>,\n",
       " 'IPO': <gensim.models.keyedvectors.Vocab at 0x2024223dac8>,\n",
       " '证监会': <gensim.models.keyedvectors.Vocab at 0x2024223db00>,\n",
       " '低': <gensim.models.keyedvectors.Vocab at 0x2024223db38>,\n",
       " '阶段': <gensim.models.keyedvectors.Vocab at 0x2024223db70>,\n",
       " '阿里巴巴': <gensim.models.keyedvectors.Vocab at 0x2024223dba8>,\n",
       " '海外': <gensim.models.keyedvectors.Vocab at 0x2024223dbe0>,\n",
       " '负责人': <gensim.models.keyedvectors.Vocab at 0x2024223dc18>,\n",
       " '时代': <gensim.models.keyedvectors.Vocab at 0x2024223dc50>,\n",
       " '龙头': <gensim.models.keyedvectors.Vocab at 0x2024223dc88>,\n",
       " '煤炭': <gensim.models.keyedvectors.Vocab at 0x2024223dcc0>,\n",
       " '媒体': <gensim.models.keyedvectors.Vocab at 0x2024223dcf8>,\n",
       " '采购': <gensim.models.keyedvectors.Vocab at 0x2024223dd30>,\n",
       " '之前': <gensim.models.keyedvectors.Vocab at 0x2024223dd68>,\n",
       " '来自': <gensim.models.keyedvectors.Vocab at 0x2024223dda0>,\n",
       " '200': <gensim.models.keyedvectors.Vocab at 0x2024223de10>,\n",
       " '具体': <gensim.models.keyedvectors.Vocab at 0x2024223de48>,\n",
       " '供给': <gensim.models.keyedvectors.Vocab at 0x2024223de80>,\n",
       " '地方': <gensim.models.keyedvectors.Vocab at 0x2024223deb8>,\n",
       " '可能会': <gensim.models.keyedvectors.Vocab at 0x2024223def0>,\n",
       " '社会': <gensim.models.keyedvectors.Vocab at 0x2024223df28>,\n",
       " '最终': <gensim.models.keyedvectors.Vocab at 0x2024223df60>,\n",
       " '这种': <gensim.models.keyedvectors.Vocab at 0x2024223df98>,\n",
       " '0': <gensim.models.keyedvectors.Vocab at 0x2024223dfd0>,\n",
       " '之间': <gensim.models.keyedvectors.Vocab at 0x20263901048>,\n",
       " '竞争': <gensim.models.keyedvectors.Vocab at 0x20263901080>,\n",
       " '现货': <gensim.models.keyedvectors.Vocab at 0x202639010b8>,\n",
       " '那么': <gensim.models.keyedvectors.Vocab at 0x202639010f0>,\n",
       " '改善': <gensim.models.keyedvectors.Vocab at 0x20263901128>,\n",
       " '之一': <gensim.models.keyedvectors.Vocab at 0x20263901160>,\n",
       " '取得': <gensim.models.keyedvectors.Vocab at 0x20263901198>,\n",
       " '港股': <gensim.models.keyedvectors.Vocab at 0x202639011d0>,\n",
       " '他': <gensim.models.keyedvectors.Vocab at 0x20263901208>,\n",
       " '低于': <gensim.models.keyedvectors.Vocab at 0x20263901240>,\n",
       " '租赁': <gensim.models.keyedvectors.Vocab at 0x20263901278>,\n",
       " '货币': <gensim.models.keyedvectors.Vocab at 0x202639012b0>,\n",
       " '生态': <gensim.models.keyedvectors.Vocab at 0x202639012e8>,\n",
       " '解决': <gensim.models.keyedvectors.Vocab at 0x20263901320>,\n",
       " '规划': <gensim.models.keyedvectors.Vocab at 0x20263901358>,\n",
       " '甚至': <gensim.models.keyedvectors.Vocab at 0x20263901390>,\n",
       " '所': <gensim.models.keyedvectors.Vocab at 0x202639013c8>,\n",
       " '进口': <gensim.models.keyedvectors.Vocab at 0x20263901400>,\n",
       " '钢铁': <gensim.models.keyedvectors.Vocab at 0x20263901438>,\n",
       " '共同': <gensim.models.keyedvectors.Vocab at 0x20263901470>,\n",
       " '波动': <gensim.models.keyedvectors.Vocab at 0x202639014a8>,\n",
       " '重组': <gensim.models.keyedvectors.Vocab at 0x202639014e0>,\n",
       " '附近': <gensim.models.keyedvectors.Vocab at 0x20263901518>,\n",
       " '供应': <gensim.models.keyedvectors.Vocab at 0x20263901550>,\n",
       " '投资基金': <gensim.models.keyedvectors.Vocab at 0x20263901588>,\n",
       " '共享': <gensim.models.keyedvectors.Vocab at 0x202639015c0>,\n",
       " '旅游': <gensim.models.keyedvectors.Vocab at 0x202639015f8>,\n",
       " '得到': <gensim.models.keyedvectors.Vocab at 0x20263901630>,\n",
       " '来说': <gensim.models.keyedvectors.Vocab at 0x20263901668>,\n",
       " '同期': <gensim.models.keyedvectors.Vocab at 0x202639016a0>,\n",
       " '基础设施': <gensim.models.keyedvectors.Vocab at 0x202639016d8>,\n",
       " '非': <gensim.models.keyedvectors.Vocab at 0x20263901710>,\n",
       " '召开': <gensim.models.keyedvectors.Vocab at 0x20263901748>,\n",
       " '有所': <gensim.models.keyedvectors.Vocab at 0x20263901780>,\n",
       " '首次': <gensim.models.keyedvectors.Vocab at 0x202639017b8>,\n",
       " '一家': <gensim.models.keyedvectors.Vocab at 0x202639017f0>,\n",
       " '市场份额': <gensim.models.keyedvectors.Vocab at 0x20263901828>,\n",
       " '百度': <gensim.models.keyedvectors.Vocab at 0x20263901860>,\n",
       " '投': <gensim.models.keyedvectors.Vocab at 0x20263901898>,\n",
       " '去': <gensim.models.keyedvectors.Vocab at 0x202639018d0>,\n",
       " '体验': <gensim.models.keyedvectors.Vocab at 0x20263901908>,\n",
       " '公司债券': <gensim.models.keyedvectors.Vocab at 0x20263901940>,\n",
       " '医疗': <gensim.models.keyedvectors.Vocab at 0x20263901978>,\n",
       " '事件': <gensim.models.keyedvectors.Vocab at 0x202639019b0>,\n",
       " '倍': <gensim.models.keyedvectors.Vocab at 0x202639019e8>,\n",
       " '结果': <gensim.models.keyedvectors.Vocab at 0x20263901a20>,\n",
       " '了解': <gensim.models.keyedvectors.Vocab at 0x20263901a58>,\n",
       " '独立': <gensim.models.keyedvectors.Vocab at 0x20263901a90>,\n",
       " '另外': <gensim.models.keyedvectors.Vocab at 0x20263901ac8>,\n",
       " '指标': <gensim.models.keyedvectors.Vocab at 0x20263901b00>,\n",
       " '新闻': <gensim.models.keyedvectors.Vocab at 0x20263901b38>,\n",
       " '天然气': <gensim.models.keyedvectors.Vocab at 0x20263901b70>,\n",
       " '员工': <gensim.models.keyedvectors.Vocab at 0x20263901ba8>,\n",
       " '相比': <gensim.models.keyedvectors.Vocab at 0x20263901be0>,\n",
       " '除了': <gensim.models.keyedvectors.Vocab at 0x20263901c18>,\n",
       " \"'nofollow'\": <gensim.models.keyedvectors.Vocab at 0x20263901c50>,\n",
       " '山东': <gensim.models.keyedvectors.Vocab at 0x20263901c88>,\n",
       " '新增': <gensim.models.keyedvectors.Vocab at 0x20263901cc0>,\n",
       " '昨日': <gensim.models.keyedvectors.Vocab at 0x20263901cf8>,\n",
       " '不能': <gensim.models.keyedvectors.Vocab at 0x20263901d30>,\n",
       " '合约': <gensim.models.keyedvectors.Vocab at 0x20263901d68>,\n",
       " '芯片': <gensim.models.keyedvectors.Vocab at 0x20263901da0>,\n",
       " '再次': <gensim.models.keyedvectors.Vocab at 0x20263901dd8>,\n",
       " '面临': <gensim.models.keyedvectors.Vocab at 0x20263901e10>,\n",
       " '小': <gensim.models.keyedvectors.Vocab at 0x20263901e48>,\n",
       " '超': <gensim.models.keyedvectors.Vocab at 0x20263901e80>,\n",
       " '之': <gensim.models.keyedvectors.Vocab at 0x20263901eb8>,\n",
       " '加速': <gensim.models.keyedvectors.Vocab at 0x20263901ef0>,\n",
       " '投入': <gensim.models.keyedvectors.Vocab at 0x20263901f28>,\n",
       " '执行': <gensim.models.keyedvectors.Vocab at 0x20263901f60>,\n",
       " '订单': <gensim.models.keyedvectors.Vocab at 0x20263901f98>,\n",
       " '亏损': <gensim.models.keyedvectors.Vocab at 0x20263901fd0>,\n",
       " '二': <gensim.models.keyedvectors.Vocab at 0x20263907048>,\n",
       " '动力': <gensim.models.keyedvectors.Vocab at 0x20263907080>,\n",
       " '一线': <gensim.models.keyedvectors.Vocab at 0x202639070b8>,\n",
       " '推荐': <gensim.models.keyedvectors.Vocab at 0x202639070f0>,\n",
       " '转让': <gensim.models.keyedvectors.Vocab at 0x20263907128>,\n",
       " '主营业务': <gensim.models.keyedvectors.Vocab at 0x20263907160>,\n",
       " '自': <gensim.models.keyedvectors.Vocab at 0x20263907198>,\n",
       " '市': <gensim.models.keyedvectors.Vocab at 0x202639071d0>,\n",
       " '符合': <gensim.models.keyedvectors.Vocab at 0x20263907208>,\n",
       " '文化': <gensim.models.keyedvectors.Vocab at 0x20263907240>,\n",
       " '用于': <gensim.models.keyedvectors.Vocab at 0x20263907278>,\n",
       " '为主': <gensim.models.keyedvectors.Vocab at 0x202639072b0>,\n",
       " '受到': <gensim.models.keyedvectors.Vocab at 0x202639072e8>,\n",
       " '专业': <gensim.models.keyedvectors.Vocab at 0x20263907320>,\n",
       " '报告期': <gensim.models.keyedvectors.Vocab at 0x20263907358>,\n",
       " '系列': <gensim.models.keyedvectors.Vocab at 0x20263907390>,\n",
       " '供应链': <gensim.models.keyedvectors.Vocab at 0x202639073c8>,\n",
       " '医药': <gensim.models.keyedvectors.Vocab at 0x20263907400>,\n",
       " '金': <gensim.models.keyedvectors.Vocab at 0x20263907438>,\n",
       " '光伏': <gensim.models.keyedvectors.Vocab at 0x20263907470>,\n",
       " '基础': <gensim.models.keyedvectors.Vocab at 0x202639074a8>,\n",
       " '智能手机': <gensim.models.keyedvectors.Vocab at 0x202639074e0>,\n",
       " '基于': <gensim.models.keyedvectors.Vocab at 0x20263907518>,\n",
       " '港元': <gensim.models.keyedvectors.Vocab at 0x20263907550>,\n",
       " '大家': <gensim.models.keyedvectors.Vocab at 0x20263907588>,\n",
       " '拟': <gensim.models.keyedvectors.Vocab at 0x202639075c0>,\n",
       " '预测': <gensim.models.keyedvectors.Vocab at 0x202639075f8>,\n",
       " '配置': <gensim.models.keyedvectors.Vocab at 0x20263907630>,\n",
       " '40': <gensim.models.keyedvectors.Vocab at 0x202639076a0>,\n",
       " '集中': <gensim.models.keyedvectors.Vocab at 0x202639076d8>,\n",
       " '决定': <gensim.models.keyedvectors.Vocab at 0x20263907710>,\n",
       " '网站': <gensim.models.keyedvectors.Vocab at 0x20263907748>,\n",
       " '人员': <gensim.models.keyedvectors.Vocab at 0x20263907780>,\n",
       " '中国证监会': <gensim.models.keyedvectors.Vocab at 0x202639077b8>,\n",
       " '扩大': <gensim.models.keyedvectors.Vocab at 0x202639077f0>,\n",
       " '处理': <gensim.models.keyedvectors.Vocab at 0x20263907828>,\n",
       " '竞争力': <gensim.models.keyedvectors.Vocab at 0x20263907860>,\n",
       " '平方米': <gensim.models.keyedvectors.Vocab at 0x20263907898>,\n",
       " '生活': <gensim.models.keyedvectors.Vocab at 0x202639078d0>,\n",
       " '针对': <gensim.models.keyedvectors.Vocab at 0x20263907908>,\n",
       " '24': <gensim.models.keyedvectors.Vocab at 0x20263907978>,\n",
       " '再': <gensim.models.keyedvectors.Vocab at 0x202639079b0>,\n",
       " '观点': <gensim.models.keyedvectors.Vocab at 0x202639079e8>,\n",
       " '合同': <gensim.models.keyedvectors.Vocab at 0x20263907a20>,\n",
       " '且': <gensim.models.keyedvectors.Vocab at 0x20263907a58>,\n",
       " '而且': <gensim.models.keyedvectors.Vocab at 0x20263907a90>,\n",
       " '计息': <gensim.models.keyedvectors.Vocab at 0x20263907ac8>,\n",
       " '依然': <gensim.models.keyedvectors.Vocab at 0x20263907b00>,\n",
       " '地产': <gensim.models.keyedvectors.Vocab at 0x20263907b38>,\n",
       " '智慧': <gensim.models.keyedvectors.Vocab at 0x20263907b70>,\n",
       " '为了': <gensim.models.keyedvectors.Vocab at 0x20263907ba8>,\n",
       " '逐渐': <gensim.models.keyedvectors.Vocab at 0x20263907be0>,\n",
       " '微信': <gensim.models.keyedvectors.Vocab at 0x20263907c18>,\n",
       " '未': <gensim.models.keyedvectors.Vocab at 0x20263907c50>,\n",
       " '高位': <gensim.models.keyedvectors.Vocab at 0x20263907c88>,\n",
       " '现金': <gensim.models.keyedvectors.Vocab at 0x20263907cc0>,\n",
       " '品种': <gensim.models.keyedvectors.Vocab at 0x20263907cf8>,\n",
       " '特斯拉': <gensim.models.keyedvectors.Vocab at 0x20263907d30>,\n",
       " '华为': <gensim.models.keyedvectors.Vocab at 0x20263907d68>,\n",
       " '个人': <gensim.models.keyedvectors.Vocab at 0x20263907da0>,\n",
       " '行为': <gensim.models.keyedvectors.Vocab at 0x20263907dd8>,\n",
       " '28': <gensim.models.keyedvectors.Vocab at 0x20263907e48>,\n",
       " '信用': <gensim.models.keyedvectors.Vocab at 0x20263907e80>,\n",
       " 'PPP': <gensim.models.keyedvectors.Vocab at 0x20263907ef0>,\n",
       " '英国': <gensim.models.keyedvectors.Vocab at 0x20263907f28>,\n",
       " '涉及': <gensim.models.keyedvectors.Vocab at 0x20263907f60>,\n",
       " '把': <gensim.models.keyedvectors.Vocab at 0x20263907f98>,\n",
       " '带动': <gensim.models.keyedvectors.Vocab at 0x20263907fd0>,\n",
       " '加大': <gensim.models.keyedvectors.Vocab at 0x2026390d048>,\n",
       " '今天': <gensim.models.keyedvectors.Vocab at 0x2026390d080>,\n",
       " '希望': <gensim.models.keyedvectors.Vocab at 0x2026390d0b8>,\n",
       " '启动': <gensim.models.keyedvectors.Vocab at 0x2026390d0f0>,\n",
       " '万': <gensim.models.keyedvectors.Vocab at 0x2026390d128>,\n",
       " '特朗普': <gensim.models.keyedvectors.Vocab at 0x2026390d160>,\n",
       " '保障': <gensim.models.keyedvectors.Vocab at 0x2026390d198>,\n",
       " '19': <gensim.models.keyedvectors.Vocab at 0x2026390d208>,\n",
       " '万亿': <gensim.models.keyedvectors.Vocab at 0x2026390d240>,\n",
       " '什么': <gensim.models.keyedvectors.Vocab at 0x2026390d278>,\n",
       " '并不': <gensim.models.keyedvectors.Vocab at 0x2026390d2b0>,\n",
       " '000': <gensim.models.keyedvectors.Vocab at 0x2026390d320>,\n",
       " '历史': <gensim.models.keyedvectors.Vocab at 0x2026390d358>,\n",
       " '因': <gensim.models.keyedvectors.Vocab at 0x2026390d390>,\n",
       " '中期': <gensim.models.keyedvectors.Vocab at 0x2026390d3c8>,\n",
       " '并购': <gensim.models.keyedvectors.Vocab at 0x2026390d400>,\n",
       " '特别': <gensim.models.keyedvectors.Vocab at 0x2026390d438>,\n",
       " '促进': <gensim.models.keyedvectors.Vocab at 0x2026390d470>,\n",
       " '【': <gensim.models.keyedvectors.Vocab at 0x2026390d4a8>,\n",
       " '整个': <gensim.models.keyedvectors.Vocab at 0x2026390d4e0>,\n",
       " '日本': <gensim.models.keyedvectors.Vocab at 0x2026390d518>,\n",
       " '上调': <gensim.models.keyedvectors.Vocab at 0x2026390d550>,\n",
       " '上行': <gensim.models.keyedvectors.Vocab at 0x2026390d588>,\n",
       " '美': <gensim.models.keyedvectors.Vocab at 0x2026390d5c0>,\n",
       " '设立': <gensim.models.keyedvectors.Vocab at 0x2026390d5f8>,\n",
       " '基本面': <gensim.models.keyedvectors.Vocab at 0x2026390d630>,\n",
       " '近': <gensim.models.keyedvectors.Vocab at 0x2026390d668>,\n",
       " '出口': <gensim.models.keyedvectors.Vocab at 0x2026390d6a0>,\n",
       " '优化': <gensim.models.keyedvectors.Vocab at 0x2026390d6d8>,\n",
       " '不仅': <gensim.models.keyedvectors.Vocab at 0x2026390d710>,\n",
       " '小幅': <gensim.models.keyedvectors.Vocab at 0x2026390d748>,\n",
       " '又': <gensim.models.keyedvectors.Vocab at 0x2026390d780>,\n",
       " 'CEO': <gensim.models.keyedvectors.Vocab at 0x2026390d7f0>,\n",
       " '游戏': <gensim.models.keyedvectors.Vocab at 0x2026390d828>,\n",
       " '回升': <gensim.models.keyedvectors.Vocab at 0x2026390d860>,\n",
       " '指': <gensim.models.keyedvectors.Vocab at 0x2026390d898>,\n",
       " '并且': <gensim.models.keyedvectors.Vocab at 0x2026390d8d0>,\n",
       " '意见': <gensim.models.keyedvectors.Vocab at 0x2026390d908>,\n",
       " '标的': <gensim.models.keyedvectors.Vocab at 0x2026390d940>,\n",
       " '自然人': <gensim.models.keyedvectors.Vocab at 0x2026390d978>,\n",
       " '条件': <gensim.models.keyedvectors.Vocab at 0x2026390d9b0>,\n",
       " '方向': <gensim.models.keyedvectors.Vocab at 0x2026390d9e8>,\n",
       " '券商': <gensim.models.keyedvectors.Vocab at 0x2026390da20>,\n",
       " '力度': <gensim.models.keyedvectors.Vocab at 0x2026390da58>,\n",
       " '款': <gensim.models.keyedvectors.Vocab at 0x2026390da90>,\n",
       " '计算': <gensim.models.keyedvectors.Vocab at 0x2026390dac8>,\n",
       " '用': <gensim.models.keyedvectors.Vocab at 0x2026390db00>,\n",
       " '营销': <gensim.models.keyedvectors.Vocab at 0x2026390db38>,\n",
       " '区间': <gensim.models.keyedvectors.Vocab at 0x2026390db70>,\n",
       " '日期': <gensim.models.keyedvectors.Vocab at 0x2026390dba8>,\n",
       " '成': <gensim.models.keyedvectors.Vocab at 0x2026390dbe0>,\n",
       " '22': <gensim.models.keyedvectors.Vocab at 0x2026390dc50>,\n",
       " '程度': <gensim.models.keyedvectors.Vocab at 0x2026390dc88>,\n",
       " '组织': <gensim.models.keyedvectors.Vocab at 0x2026390dcc0>,\n",
       " '价': <gensim.models.keyedvectors.Vocab at 0x2026390dcf8>,\n",
       " '申购': <gensim.models.keyedvectors.Vocab at 0x2026390dd30>,\n",
       " '沪': <gensim.models.keyedvectors.Vocab at 0x2026390dd68>,\n",
       " '应该': <gensim.models.keyedvectors.Vocab at 0x2026390dda0>,\n",
       " '介绍': <gensim.models.keyedvectors.Vocab at 0x2026390ddd8>,\n",
       " '二季度': <gensim.models.keyedvectors.Vocab at 0x2026390de10>,\n",
       " '合计': <gensim.models.keyedvectors.Vocab at 0x2026390de48>,\n",
       " '完善': <gensim.models.keyedvectors.Vocab at 0x2026390de80>,\n",
       " '位': <gensim.models.keyedvectors.Vocab at 0x2026390deb8>,\n",
       " '市值': <gensim.models.keyedvectors.Vocab at 0x2026390def0>,\n",
       " '仍然': <gensim.models.keyedvectors.Vocab at 0x2026390df28>,\n",
       " '时候': <gensim.models.keyedvectors.Vocab at 0x2026390df60>,\n",
       " '比特币': <gensim.models.keyedvectors.Vocab at 0x2026390df98>,\n",
       " '2000': <gensim.models.keyedvectors.Vocab at 0x20263913048>,\n",
       " '措施': <gensim.models.keyedvectors.Vocab at 0x20263913080>,\n",
       " '小时': <gensim.models.keyedvectors.Vocab at 0x202639130b8>,\n",
       " '理财': <gensim.models.keyedvectors.Vocab at 0x202639130f0>,\n",
       " '考虑': <gensim.models.keyedvectors.Vocab at 0x20263913128>,\n",
       " '涨停': <gensim.models.keyedvectors.Vocab at 0x20263913160>,\n",
       " '满足': <gensim.models.keyedvectors.Vocab at 0x20263913198>,\n",
       " '生物': <gensim.models.keyedvectors.Vocab at 0x202639131d0>,\n",
       " '过去': <gensim.models.keyedvectors.Vocab at 0x20263913208>,\n",
       " '跌幅': <gensim.models.keyedvectors.Vocab at 0x20263913240>,\n",
       " '迎来': <gensim.models.keyedvectors.Vocab at 0x20263913278>,\n",
       " '各': <gensim.models.keyedvectors.Vocab at 0x202639132b0>,\n",
       " '下游': <gensim.models.keyedvectors.Vocab at 0x202639132e8>,\n",
       " '资料': <gensim.models.keyedvectors.Vocab at 0x20263913320>,\n",
       " '停牌': <gensim.models.keyedvectors.Vocab at 0x20263913358>,\n",
       " '每': <gensim.models.keyedvectors.Vocab at 0x20263913390>,\n",
       " '费用': <gensim.models.keyedvectors.Vocab at 0x202639133c8>,\n",
       " '浙江': <gensim.models.keyedvectors.Vocab at 0x20263913400>,\n",
       " '委员会': <gensim.models.keyedvectors.Vocab at 0x20263913438>,\n",
       " '每股': <gensim.models.keyedvectors.Vocab at 0x20263913470>,\n",
       " '大量': <gensim.models.keyedvectors.Vocab at 0x202639134a8>,\n",
       " '通信': <gensim.models.keyedvectors.Vocab at 0x202639134e0>,\n",
       " '出': <gensim.models.keyedvectors.Vocab at 0x20263913518>,\n",
       " \"'center'\": <gensim.models.keyedvectors.Vocab at 0x20263913550>,\n",
       " '受益': <gensim.models.keyedvectors.Vocab at 0x20263913588>,\n",
       " '看好': <gensim.models.keyedvectors.Vocab at 0x202639135c0>,\n",
       " '收': <gensim.models.keyedvectors.Vocab at 0x202639135f8>,\n",
       " '明确': <gensim.models.keyedvectors.Vocab at 0x20263913630>,\n",
       " '下行': <gensim.models.keyedvectors.Vocab at 0x20263913668>,\n",
       " '自动': <gensim.models.keyedvectors.Vocab at 0x202639136a0>,\n",
       " '60': <gensim.models.keyedvectors.Vocab at 0x20263913710>,\n",
       " '结合': <gensim.models.keyedvectors.Vocab at 0x20263913748>,\n",
       " '无法': <gensim.models.keyedvectors.Vocab at 0x20263913780>,\n",
       " 'AI': <gensim.models.keyedvectors.Vocab at 0x202639137f0>,\n",
       " '深度': <gensim.models.keyedvectors.Vocab at 0x20263913828>,\n",
       " '只有': <gensim.models.keyedvectors.Vocab at 0x20263913860>,\n",
       " 'G': <gensim.models.keyedvectors.Vocab at 0x20263913898>,\n",
       " '保证': <gensim.models.keyedvectors.Vocab at 0x202639138d0>,\n",
       " '上年': <gensim.models.keyedvectors.Vocab at 0x20263913908>,\n",
       " '江苏': <gensim.models.keyedvectors.Vocab at 0x20263913940>,\n",
       " '电动汽车': <gensim.models.keyedvectors.Vocab at 0x20263913978>,\n",
       " '看到': <gensim.models.keyedvectors.Vocab at 0x202639139b0>,\n",
       " '三大': <gensim.models.keyedvectors.Vocab at 0x202639139e8>,\n",
       " '人士': <gensim.models.keyedvectors.Vocab at 0x20263913a20>,\n",
       " '比如': <gensim.models.keyedvectors.Vocab at 0x20263913a58>,\n",
       " '提示': <gensim.models.keyedvectors.Vocab at 0x20263913a90>,\n",
       " '五': <gensim.models.keyedvectors.Vocab at 0x20263913ac8>,\n",
       " '说明': <gensim.models.keyedvectors.Vocab at 0x20263913b00>,\n",
       " '视': <gensim.models.keyedvectors.Vocab at 0x20263913b38>,\n",
       " '中国联通': <gensim.models.keyedvectors.Vocab at 0x20263913b70>,\n",
       " '签署': <gensim.models.keyedvectors.Vocab at 0x20263913ba8>,\n",
       " '关系': <gensim.models.keyedvectors.Vocab at 0x20263913be0>,\n",
       " '整合': <gensim.models.keyedvectors.Vocab at 0x20263913c18>,\n",
       " '上海证券交易所': <gensim.models.keyedvectors.Vocab at 0x20263913c50>,\n",
       " '商业银行': <gensim.models.keyedvectors.Vocab at 0x20263913c88>,\n",
       " '运营商': <gensim.models.keyedvectors.Vocab at 0x20263913cc0>,\n",
       " '仅': <gensim.models.keyedvectors.Vocab at 0x20263913cf8>,\n",
       " '一方面': <gensim.models.keyedvectors.Vocab at 0x20263913d30>,\n",
       " '受': <gensim.models.keyedvectors.Vocab at 0x20263913d68>,\n",
       " '与此同时': <gensim.models.keyedvectors.Vocab at 0x20263913da0>,\n",
       " '厂商': <gensim.models.keyedvectors.Vocab at 0x20263913dd8>,\n",
       " '收盘': <gensim.models.keyedvectors.Vocab at 0x20263913e10>,\n",
       " '文件': <gensim.models.keyedvectors.Vocab at 0x20263913e48>,\n",
       " 'OLED': <gensim.models.keyedvectors.Vocab at 0x20263913eb8>,\n",
       " '优质': <gensim.models.keyedvectors.Vocab at 0x20263913ef0>,\n",
       " '绿色': <gensim.models.keyedvectors.Vocab at 0x20263913f28>,\n",
       " '合作伙伴': <gensim.models.keyedvectors.Vocab at 0x20263913f60>,\n",
       " '外': <gensim.models.keyedvectors.Vocab at 0x20263913f98>,\n",
       " '承诺': <gensim.models.keyedvectors.Vocab at 0x20263913fd0>,\n",
       " '必须': <gensim.models.keyedvectors.Vocab at 0x20263919048>,\n",
       " '十': <gensim.models.keyedvectors.Vocab at 0x20263919080>,\n",
       " '好': <gensim.models.keyedvectors.Vocab at 0x202639190b8>,\n",
       " '卖出': <gensim.models.keyedvectors.Vocab at 0x202639190f0>,\n",
       " '接受': <gensim.models.keyedvectors.Vocab at 0x20263919128>,\n",
       " '质押': <gensim.models.keyedvectors.Vocab at 0x20263919160>,\n",
       " '价格上涨': <gensim.models.keyedvectors.Vocab at 0x20263919198>,\n",
       " '制度': <gensim.models.keyedvectors.Vocab at 0x202639191d0>,\n",
       " '造成': <gensim.models.keyedvectors.Vocab at 0x20263919208>,\n",
       " '创': <gensim.models.keyedvectors.Vocab at 0x20263919240>,\n",
       " '一般': <gensim.models.keyedvectors.Vocab at 0x20263919278>,\n",
       " '发行人': <gensim.models.keyedvectors.Vocab at 0x202639192b0>,\n",
       " '保险公司': <gensim.models.keyedvectors.Vocab at 0x202639192e8>,\n",
       " '公司股票': <gensim.models.keyedvectors.Vocab at 0x20263919320>,\n",
       " '作用': <gensim.models.keyedvectors.Vocab at 0x20263919358>,\n",
       " '格局': <gensim.models.keyedvectors.Vocab at 0x20263919390>,\n",
       " '调查': <gensim.models.keyedvectors.Vocab at 0x202639193c8>,\n",
       " '延续': <gensim.models.keyedvectors.Vocab at 0x20263919400>,\n",
       " '单利': <gensim.models.keyedvectors.Vocab at 0x20263919438>,\n",
       " '双方': <gensim.models.keyedvectors.Vocab at 0x20263919470>,\n",
       " '点评': <gensim.models.keyedvectors.Vocab at 0x202639194a8>,\n",
       " '创业': <gensim.models.keyedvectors.Vocab at 0x202639194e0>,\n",
       " '机制': <gensim.models.keyedvectors.Vocab at 0x20263919518>,\n",
       " '股市': <gensim.models.keyedvectors.Vocab at 0x20263919550>,\n",
       " '类': <gensim.models.keyedvectors.Vocab at 0x20263919588>,\n",
       " '治理': <gensim.models.keyedvectors.Vocab at 0x202639195c0>,\n",
       " 'C': <gensim.models.keyedvectors.Vocab at 0x202639195f8>,\n",
       " '26': <gensim.models.keyedvectors.Vocab at 0x20263919668>,\n",
       " '发布公告': <gensim.models.keyedvectors.Vocab at 0x202639196a0>,\n",
       " '主力': <gensim.models.keyedvectors.Vocab at 0x202639196d8>,\n",
       " '近年来': <gensim.models.keyedvectors.Vocab at 0x20263919710>,\n",
       " '正': <gensim.models.keyedvectors.Vocab at 0x20263919748>,\n",
       " '第三季度': <gensim.models.keyedvectors.Vocab at 0x20263919780>,\n",
       " '09': <gensim.models.keyedvectors.Vocab at 0x202639197f0>,\n",
       " '广州': <gensim.models.keyedvectors.Vocab at 0x20263919828>,\n",
       " '较高': <gensim.models.keyedvectors.Vocab at 0x20263919860>,\n",
       " '具备': <gensim.models.keyedvectors.Vocab at 0x20263919898>,\n",
       " 'Google': <gensim.models.keyedvectors.Vocab at 0x20263919908>,\n",
       " '它': <gensim.models.keyedvectors.Vocab at 0x20263919940>,\n",
       " '尤其': <gensim.models.keyedvectors.Vocab at 0x20263919978>,\n",
       " '份额': <gensim.models.keyedvectors.Vocab at 0x202639199b0>,\n",
       " '大型': <gensim.models.keyedvectors.Vocab at 0x202639199e8>,\n",
       " '归属于': <gensim.models.keyedvectors.Vocab at 0x20263919a20>,\n",
       " '落地': <gensim.models.keyedvectors.Vocab at 0x20263919a58>,\n",
       " '通知': <gensim.models.keyedvectors.Vocab at 0x20263919a90>,\n",
       " '关键': <gensim.models.keyedvectors.Vocab at 0x20263919ac8>,\n",
       " ...}"
      ]
     },
     "execution_count": 3,
     "metadata": {},
     "output_type": "execute_result"
    }
   ],
   "source": [
    "w2v_model.vocab"
   ]
  },
  {
   "cell_type": "code",
   "execution_count": 18,
   "metadata": {},
   "outputs": [
    {
     "data": {
      "text/plain": [
       "True"
      ]
     },
     "execution_count": 18,
     "metadata": {},
     "output_type": "execute_result"
    }
   ],
   "source": [
    "'是' in w2v_model.vocab"
   ]
  },
  {
   "cell_type": "code",
   "execution_count": 17,
   "metadata": {},
   "outputs": [
    {
     "data": {
      "text/plain": [
       "467161"
      ]
     },
     "execution_count": 17,
     "metadata": {},
     "output_type": "execute_result"
    }
   ],
   "source": [
    "w2v_model.vocab[list(w2v_model.vocab.keys())[-1]].index"
   ]
  },
  {
   "cell_type": "code",
   "execution_count": 4,
   "metadata": {},
   "outputs": [
    {
     "data": {
      "text/plain": [
       "0"
      ]
     },
     "execution_count": 4,
     "metadata": {},
     "output_type": "execute_result"
    }
   ],
   "source": [
    "w2v_model.vocab['，'].index"
   ]
  },
  {
   "cell_type": "code",
   "execution_count": 5,
   "metadata": {},
   "outputs": [
    {
     "data": {
      "text/plain": [
       "14"
      ]
     },
     "execution_count": 5,
     "metadata": {},
     "output_type": "execute_result"
    }
   ],
   "source": [
    "w2v_model.vocab['是'].index"
   ]
  },
  {
   "cell_type": "code",
   "execution_count": 6,
   "metadata": {},
   "outputs": [
    {
     "data": {
      "text/plain": [
       "14"
      ]
     },
     "execution_count": 6,
     "metadata": {},
     "output_type": "execute_result"
    }
   ],
   "source": [
    "word2index = {token: token_index for token_index, token in enumerate(w2v_model.index2word)} \n",
    "word2index['是']"
   ]
  },
  {
   "cell_type": "code",
   "execution_count": 57,
   "metadata": {},
   "outputs": [
    {
     "name": "stderr",
     "output_type": "stream",
     "text": [
      "C:\\Users\\MengnanChen\\Anaconda3\\lib\\site-packages\\ipykernel_launcher.py:1: DeprecationWarning: Call to deprecated `wv` (Attribute will be removed in 4.0.0, use self instead).\n",
      "  \"\"\"Entry point for launching an IPython kernel.\n"
     ]
    },
    {
     "data": {
      "text/plain": [
       "<gensim.models.keyedvectors.Word2VecKeyedVectors at 0x10ebbc8cac8>"
      ]
     },
     "execution_count": 57,
     "metadata": {},
     "output_type": "execute_result"
    }
   ],
   "source": [
    "w2v_model.wv"
   ]
  },
  {
   "cell_type": "code",
   "execution_count": 59,
   "metadata": {},
   "outputs": [
    {
     "name": "stderr",
     "output_type": "stream",
     "text": [
      "C:\\Users\\MengnanChen\\Anaconda3\\lib\\site-packages\\ipykernel_launcher.py:1: DeprecationWarning: Call to deprecated `wv` (Attribute will be removed in 4.0.0, use self instead).\n",
      "  \"\"\"Entry point for launching an IPython kernel.\n",
      "C:\\Users\\MengnanChen\\Anaconda3\\lib\\site-packages\\ipykernel_launcher.py:1: DeprecationWarning: Call to deprecated `syn0` (Attribute will be removed in 4.0.0, use self.wv.vectors instead).\n",
      "  \"\"\"Entry point for launching an IPython kernel.\n"
     ]
    },
    {
     "data": {
      "text/plain": [
       "numpy.ndarray"
      ]
     },
     "execution_count": 59,
     "metadata": {},
     "output_type": "execute_result"
    }
   ],
   "source": [
    "# all word's array\n",
    "# refer to: https://github.com/RaRe-Technologies/gensim/issues/1513\n",
    "type(w2v_model.wv.syn0)"
   ]
  },
  {
   "cell_type": "code",
   "execution_count": 19,
   "metadata": {},
   "outputs": [],
   "source": [
    "import numpy as np"
   ]
  },
  {
   "cell_type": "code",
   "execution_count": 20,
   "metadata": {},
   "outputs": [],
   "source": [
    "x=np.asarray([[1,2,3],[4,5,6]])"
   ]
  },
  {
   "cell_type": "code",
   "execution_count": 21,
   "metadata": {},
   "outputs": [
    {
     "data": {
      "text/plain": [
       "array([[1, 2, 3],\n",
       "       [4, 5, 6]])"
      ]
     },
     "execution_count": 21,
     "metadata": {},
     "output_type": "execute_result"
    }
   ],
   "source": [
    "x"
   ]
  },
  {
   "cell_type": "code",
   "execution_count": 28,
   "metadata": {},
   "outputs": [],
   "source": [
    "y=np.asarray([5,6,7])"
   ]
  },
  {
   "cell_type": "code",
   "execution_count": 29,
   "metadata": {},
   "outputs": [
    {
     "data": {
      "text/plain": [
       "array([5, 6, 7])"
      ]
     },
     "execution_count": 29,
     "metadata": {},
     "output_type": "execute_result"
    }
   ],
   "source": [
    "y"
   ]
  },
  {
   "cell_type": "code",
   "execution_count": 31,
   "metadata": {},
   "outputs": [
    {
     "data": {
      "text/plain": [
       "array([[1, 2, 3],\n",
       "       [4, 5, 6],\n",
       "       [5, 6, 7]])"
      ]
     },
     "execution_count": 31,
     "metadata": {},
     "output_type": "execute_result"
    }
   ],
   "source": [
    "np.concatenate([x,[y]])"
   ]
  },
  {
   "cell_type": "code",
   "execution_count": null,
   "metadata": {},
   "outputs": [],
   "source": [
    "def convert_data_to_index(string_data, wv):\n",
    "    index_data = []\n",
    "    for word in string_data:\n",
    "        if word in wv:\n",
    "            index_data.append(wv.vocab[word].index)\n",
    "    return index_data\n",
    "\n",
    "embedding_matrix = np.zeros((len(model.wv.vocab), vector_dim))\n",
    "for i in range(len(model.wv.vocab)):\n",
    "    embedding_vector = model.wv[model.wv.index2word[i]]\n",
    "    if embedding_vector is not None:\n",
    "        embedding_matrix[i] = embedding_vector\n",
    "        \n",
    "# setup the embedding layer(Keras)\n",
    "embeddings = Embedding(input_dim=embedding_matrix.shape[0], output_dim=embedding_matrix.shape[1],\n",
    "                      weights=[embedding_matrix])\n",
    "\n",
    "# embedding layer weights are frozen to avoid updating embeddings while training(TF)\n",
    "saved_embeddings = tf.constant(embedding_matrix)\n",
    "embedding = tf.Variable(initial_value=saved_embeddings, trainable=False)"
   ]
  },
  {
   "cell_type": "code",
   "execution_count": null,
   "metadata": {},
   "outputs": [],
   "source": []
  }
 ],
 "metadata": {
  "kernelspec": {
   "display_name": "Python 3",
   "language": "python",
   "name": "python3"
  },
  "language_info": {
   "codemirror_mode": {
    "name": "ipython",
    "version": 3
   },
   "file_extension": ".py",
   "mimetype": "text/x-python",
   "name": "python",
   "nbconvert_exporter": "python",
   "pygments_lexer": "ipython3",
   "version": "3.6.4"
  }
 },
 "nbformat": 4,
 "nbformat_minor": 2
}
